{
 "cells": [
  {
   "cell_type": "markdown",
   "metadata": {},
   "source": [
    "# Lists, Dictionaries, Loops\n",
    "- toc: true \n",
    "- badges: true\n",
    "- comments: true\n",
    "- categories: [jupyter, week2]\n"
   ]
  },
  {
   "cell_type": "code",
   "execution_count": 5,
   "metadata": {
    "vscode": {
     "languageId": "shellscript"
    }
   },
   "outputs": [
    {
     "name": "stdout",
     "output_type": "stream",
     "text": [
      "Kush Sirohi\n",
      "15\n",
      "{'name': 'Kush', 'age': 15, 'height': '6 foot', 'school': 'DNHS'}\n",
      "['milk', 'eggs', 'bread', 'fruits', 'veggies', 'drinks']\n",
      "milk\n",
      "bread\n",
      "veggies\n"
     ]
    }
   ],
   "source": [
    "# Sample of Python Variables\n",
    "\n",
    "# variable of type string\n",
    "name = \"Kush Sirohi\"\n",
    "print(name)\n",
    "\n",
    "# variable of type integer\n",
    "age = 15\n",
    "print(age)\n",
    "\n",
    "\n",
    "\n",
    "# variable of type dictionary \n",
    "Kush = {\n",
    "    \"name\": \"Kush\",\n",
    "    \"age\": 15,\n",
    "    \"height\": \"6 foot\",\n",
    "    \"school\": \"DNHS\",\n",
    "}\n",
    "\n",
    "print(Kush)\n",
    "\n",
    "\n",
    "# list \n",
    "grocery = [\"milk\", \"eggs\", \"bread\", \"fruits\", \"veggies\", \"drinks\"]\n",
    "print(grocery)\n",
    "\n",
    "\n",
    "\n",
    "# printing only odd list values\n",
    "grocery = [\"milk\", \"eggs\", \"bread\", \"fruits\", \"veggies\", \"drinks\"]\n",
    "for i in range (3): \n",
    "    print(grocery[2*i])"
   ]
  }
 ],
 "metadata": {
  "kernelspec": {
   "display_name": "Python 3.9.12 ('base')",
   "language": "python",
   "name": "python3"
  },
  "language_info": {
   "codemirror_mode": {
    "name": "ipython",
    "version": 3
   },
   "file_extension": ".py",
   "mimetype": "text/x-python",
   "name": "python",
   "nbconvert_exporter": "python",
   "pygments_lexer": "ipython3",
   "version": "3.9.12"
  },
  "orig_nbformat": 4,
  "vscode": {
   "interpreter": {
    "hash": "7a0682acd88caa5d8bd70becdfb1f3da2bdb655faab76d50f35aefc71b476c53"
   }
  }
 },
 "nbformat": 4,
 "nbformat_minor": 2
}

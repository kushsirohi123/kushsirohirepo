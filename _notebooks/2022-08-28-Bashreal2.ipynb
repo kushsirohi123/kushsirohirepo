{
 "cells": [
  {
   "cell_type": "code",
   "execution_count": 3,
   "metadata": {
    "vscode": {
     "languageId": "shellscript"
    }
   },
   "outputs": [
    {
     "name": "stdout",
     "output_type": "stream",
     "text": [
      "bash: check: command not found\n",
      "bash: -: command not found\n",
      "bash: -: command not found\n",
      "bash: -: command not found\n",
      "bash: -: command not found\n",
      "Using conditional statement to create a project directory and project\n",
      "Directory /Users/kushsirohi/vscode exists.\n",
      "Directory /Users/kushsirohi/vscode/APCSP exists.\n"
     ]
    }
   ],
   "source": [
    " First Jupyter Notebook\n",
    "\n",
    "- toc: true\n",
    "- badges: true\n",
    "- comments: true\n",
    "- categories: [jupyter]\n",
    "\n",
    "echo \"Using conditional statement to create a project directory and project\"\n",
    "\n",
    "# Variable section\n",
    "export project_dir=$HOME/vscode  # change vscode to different name to test git clone\n",
    "export project=$project_dir/APCSP  # change APCSP to name of project from git clone\n",
    "export project_repo=\"https://github.com/nighthawkcoders/APCSP.git\"  # change to project of choice\n",
    "\n",
    "cd ~    # start in home directory\n",
    "\n",
    "# Conditional block to make a project directory\n",
    "if [ ! -d $project_dir ]\n",
    "then \n",
    "    echo \"Directory $project_dir does not exists... makinng directory $project_dir\"\n",
    "    mkdir -p $project_dir\n",
    "fi\n",
    "echo \"Directory $project_dir exists.\" \n",
    "\n",
    "# Conditional block to git clone a project from project_repo\n",
    "if [ ! -d $project ]\n",
    "then\n",
    "    echo \"Directory $project does not exists... cloning $project_repo\"\n",
    "    cd $project_dir\n",
    "    git clone $project_repo\n",
    "    cd ~\n",
    "fi\n",
    "echo \"Directory $project exists.\""
   ]
  },
  {
   "cell_type": "code",
   "execution_count": 4,
   "metadata": {
    "vscode": {
     "languageId": "shellscript"
    }
   },
   "outputs": [
    {
     "name": "stdout",
     "output_type": "stream",
     "text": [
      "Navigate to project, then navigate to area wwhere files were cloned\n",
      "/Users/kushsirohi/vscode/APCSP\n",
      "\n",
      "list top level or root of files with project pulled from github\n",
      "Gemfile\t\t\t_includes\t\t_word\n",
      "LICENSE\t\t\t_layouts\t\tassets\n",
      "Makefile\t\t_notebooks\t\tdocker-compose.yml\n",
      "README.md\t\t_pages\t\t\timages\n",
      "_action_files\t\t_plugins\t\tindex.html\n",
      "_config.yml\t\t_posts\t\t\tpython\n",
      "_fastpages_docs\t\t_sass\n",
      "\n",
      "list again with hidden files pulled from github\n",
      ".\t\t\tMakefile\t\t_posts\n",
      "..\t\t\tREADME.md\t\t_sass\n",
      ".devcontainer.json\t_action_files\t\t_word\n",
      ".git\t\t\t_config.yml\t\tassets\n",
      ".gitattributes\t\t_fastpages_docs\t\tdocker-compose.yml\n",
      ".github\t\t\t_includes\t\timages\n",
      ".gitignore\t\t_layouts\t\tindex.html\n",
      ".vscode\t\t\t_notebooks\t\tpython\n",
      "Gemfile\t\t\t_pages\n",
      "LICENSE\t\t\t_plugins\n",
      "\n",
      "list all files in long format\n",
      "total 96\n",
      "drwxr-xr-x  28 kushsirohi  staff    896 Aug 25 11:32 .\n",
      "drwxr-xr-x   4 kushsirohi  staff    128 Aug 25 17:23 ..\n",
      "-rw-r--r--   1 kushsirohi  staff    420 Aug 25 11:32 .devcontainer.json\n",
      "drwxr-xr-x  12 kushsirohi  staff    384 Aug 25 11:32 .git\n",
      "-rw-r--r--   1 kushsirohi  staff     84 Aug 25 11:32 .gitattributes\n",
      "drwxr-xr-x   4 kushsirohi  staff    128 Aug 25 11:32 .github\n",
      "-rw-r--r--   1 kushsirohi  staff    917 Aug 25 11:32 .gitignore\n",
      "drwxr-xr-x   3 kushsirohi  staff     96 Aug 25 11:32 .vscode\n",
      "-rwxr-xr-x   1 kushsirohi  staff   1304 Aug 25 11:32 Gemfile\n",
      "-rw-r--r--   1 kushsirohi  staff  11351 Aug 25 11:32 LICENSE\n",
      "-rwxr-xr-x   1 kushsirohi  staff   1422 Aug 25 11:32 Makefile\n",
      "-rwxr-xr-x   1 kushsirohi  staff   3614 Aug 25 11:32 README.md\n",
      "drwxr-xr-x  18 kushsirohi  staff    576 Aug 25 11:32 _action_files\n",
      "-rw-r--r--   1 kushsirohi  staff   3716 Aug 25 11:32 _config.yml\n",
      "drwxr-xr-x  24 kushsirohi  staff    768 Aug 25 11:32 _fastpages_docs\n",
      "drwxr-xr-x  29 kushsirohi  staff    928 Aug 25 11:32 _includes\n",
      "drwxr-xr-x   6 kushsirohi  staff    192 Aug 25 11:32 _layouts\n",
      "drwxr-xr-x  12 kushsirohi  staff    384 Aug 25 11:32 _notebooks\n",
      "drwxr-xr-x   9 kushsirohi  staff    288 Aug 25 11:32 _pages\n",
      "drwxr-xr-x   4 kushsirohi  staff    128 Aug 25 11:32 _plugins\n",
      "drwxr-xr-x  29 kushsirohi  staff    928 Aug 25 11:32 _posts\n",
      "drwxr-xr-x   3 kushsirohi  staff     96 Aug 25 11:32 _sass\n",
      "drwxr-xr-x   3 kushsirohi  staff     96 Aug 25 11:32 _word\n",
      "drwxr-xr-x   4 kushsirohi  staff    128 Aug 25 11:32 assets\n",
      "-rwxr-xr-x   1 kushsirohi  staff   1136 Aug 25 11:32 docker-compose.yml\n",
      "drwxr-xr-x  52 kushsirohi  staff   1664 Aug 25 11:32 images\n",
      "-rw-r--r--   1 kushsirohi  staff   1061 Aug 25 11:32 index.html\n",
      "drwxr-xr-x   3 kushsirohi  staff     96 Aug 25 11:32 python\n"
     ]
    }
   ],
   "source": [
    "echo \"Navigate to project, then navigate to area wwhere files were cloned\"\n",
    "cd $project\n",
    "pwd\n",
    "\n",
    "echo \"\"\n",
    "echo \"list top level or root of files with project pulled from github\"\n",
    "ls\n",
    "\n",
    "echo \"\"\n",
    "echo \"list again with hidden files pulled from github\"\n",
    "ls -a   # hidden files flag, many shell commands have flags\n",
    "\n",
    "echo \"\"\n",
    "echo \"list all files in long format\"\n",
    "ls -al   # all files and long listing\n"
   ]
  },
  {
   "cell_type": "code",
   "execution_count": 5,
   "metadata": {
    "vscode": {
     "languageId": "shellscript"
    }
   },
   "outputs": [
    {
     "name": "stdout",
     "output_type": "stream",
     "text": [
      "Look for posts\n",
      "/Users/kushsirohi/vscode/APCSP/_posts\n",
      "total 456\n",
      "-rw-r--r--  1 kushsirohi  staff  21306 Aug 25 11:32 2022-06-01-TT160-deploy.md\n",
      "-rw-r--r--  1 kushsirohi  staff   5861 Aug 25 11:32 2022-07-07-PBL-binary.md\n",
      "-rw-r--r--  1 kushsirohi  staff   3085 Aug 25 11:32 2022-07-08-PBL-grade_calc.md\n",
      "-rw-r--r--  1 kushsirohi  staff   3698 Aug 25 11:32 2022-07-08-PBL-graph.md\n",
      "-rw-r--r--  1 kushsirohi  staff   5729 Aug 25 11:32 2022-07-08-PBL-life.md\n",
      "-rw-r--r--  1 kushsirohi  staff  14387 Aug 25 11:32 2022-07-08-PBL-snake.md\n",
      "-rw-r--r--  1 kushsirohi  staff    334 Aug 25 11:32 2022-07-10-PBL-database.md\n",
      "-rw-r--r--  1 kushsirohi  staff   2908 Aug 25 11:32 2022-07-10-PBL-jokes.md\n",
      "-rw-r--r--  1 kushsirohi  staff   4046 Aug 25 11:32 2022-07-10-PBL-rapidapi.md\n",
      "-rw-r--r--  1 kushsirohi  staff   6685 Aug 25 11:32 2022-07-19-PBL-calculator.md\n",
      "-rw-r--r--  1 kushsirohi  staff  23325 Aug 25 11:32 2022-07-25-CSP-workshop.md\n",
      "-rw-r--r--  1 kushsirohi  staff   2333 Aug 25 11:32 2022-08-15-TP000-student_score_history.md\n",
      "-rw-r--r--  1 kushsirohi  staff   4363 Aug 25 11:32 2022-08-15-TP100-pseudo_code.md\n",
      "-rw-r--r--  1 kushsirohi  staff   7968 Aug 25 11:32 2022-08-15-TR100-tool_setup.md\n",
      "-rw-r--r--  1 kushsirohi  staff  15026 Aug 25 11:32 2022-08-15-TT100-tools.md\n",
      "-rw-r--r--  1 kushsirohi  staff   5590 Aug 25 11:32 2022-08-15-TT101-vscode-wsl.md\n",
      "-rw-r--r--  1 kushsirohi  staff   2155 Aug 25 11:32 2022-08-22-TR110-intro_python.md\n",
      "-rw-r--r--  1 kushsirohi  staff   5173 Aug 25 11:32 2022-08-22-TT110-fastpages.md\n",
      "-rw-r--r--  1 kushsirohi  staff   2798 Aug 25 11:32 2022-08-22-TT110-focus.md\n",
      "-rw-r--r--  1 kushsirohi  staff   2737 Aug 25 11:32 2022-08-29-TR120-data_abstract.md\n",
      "-rw-r--r--  1 kushsirohi  staff  10683 Aug 25 11:32 2022-08-29-TT120-agile.md\n",
      "-rw-r--r--  1 kushsirohi  staff   4498 Aug 25 11:32 2022-08-29-TT120-html_fragments.md\n",
      "-rw-r--r--  1 kushsirohi  staff   9037 Aug 25 11:32 2022-09-05-TP130-create_performance_task.md\n",
      "-rw-r--r--  1 kushsirohi  staff   7753 Aug 25 11:32 2022-09-05-TP131-create-task-bria.md\n",
      "-rw-r--r--  1 kushsirohi  staff   8066 Aug 25 11:32 2022-09-05-TR130-creative_development.md\n",
      "-rw-r--r--  1 kushsirohi  staff   3520 Aug 25 11:32 2022-09-05-TT130-applab.md\n",
      "-rw-r--r--  1 kushsirohi  staff    720 Aug 25 11:32 README.md\n"
     ]
    }
   ],
   "source": [
    "echo \"Look for posts\"\n",
    "export posts=$project/_posts  # _posts inside project\n",
    "cd $posts  # this should exist per fastpages\n",
    "pwd  # present working directory\n",
    "ls -l  # list posts\n"
   ]
  },
  {
   "cell_type": "code",
   "execution_count": 6,
   "metadata": {
    "vscode": {
     "languageId": "shellscript"
    }
   },
   "outputs": [
    {
     "name": "stdout",
     "output_type": "stream",
     "text": [
      "Look for notebooks\n",
      "/Users/kushsirohi/vscode/APCSP/_notebooks\n",
      "total 280\n",
      "-rw-r--r--  1 kushsirohi  staff  14243 Aug 25 11:32 2022-06-01-TT150-webapi_tutorial.ipynb\n",
      "-rw-r--r--  1 kushsirohi  staff   8653 Aug 25 11:32 2022-07-21-PBL-neo4j_intro.ipynb\n",
      "-rw-r--r--  1 kushsirohi  staff  11694 Aug 25 11:32 2022-08-22-TP110-python_hello.ipynb\n",
      "-rw-r--r--  1 kushsirohi  staff  20003 Aug 25 11:32 2022-08-22-TT110-anthony_and_sahil.ipynb\n",
      "-rw-r--r--  1 kushsirohi  staff   9525 Aug 25 11:32 2022-08-22-TT110-bash_tutorial.ipynb\n",
      "-rw-r--r--  1 kushsirohi  staff  35721 Aug 25 11:32 2022-08-25-tool_check.ipynb\n",
      "-rw-r--r--  1 kushsirohi  staff  10141 Aug 25 11:32 2022-08-29-TP120-python_lists.ipynb\n",
      "-rw-r--r--  1 kushsirohi  staff  12632 Aug 25 11:32 2022-09-05-TT130-js_tutorial.ipynb\n",
      "-rw-r--r--  1 kushsirohi  staff    771 Aug 25 11:32 README.md\n",
      "drwxr-xr-x  3 kushsirohi  staff     96 Aug 25 11:32 images\n"
     ]
    }
   ],
   "source": [
    "echo \"Look for notebooks\"\n",
    "export notebooks=$project/_notebooks  # _notebooks is inside project\n",
    "cd $notebooks   # this should exist per fastpages\n",
    "pwd  # present working directory\n",
    "ls -l  # list notebooks\n"
   ]
  },
  {
   "cell_type": "code",
   "execution_count": 7,
   "metadata": {
    "vscode": {
     "languageId": "shellscript"
    }
   },
   "outputs": [
    {
     "name": "stdout",
     "output_type": "stream",
     "text": [
      "Look for images in notebooks, print working directory, list files\n",
      "/Users/kushsirohi/vscode/APCSP/_notebooks/images\n",
      "total 200\n",
      "-rw-r--r--  1 kushsirohi  staff  101617 Aug 25 11:32 kernels.png\n"
     ]
    }
   ],
   "source": [
    "echo \"Look for images in notebooks, print working directory, list files\"\n",
    "cd $notebooks/images  # this should exist per fastpages\n",
    "pwd\n",
    "ls -l\n"
   ]
  },
  {
   "cell_type": "code",
   "execution_count": 8,
   "metadata": {
    "vscode": {
     "languageId": "shellscript"
    }
   },
   "outputs": [
    {
     "name": "stdout",
     "output_type": "stream",
     "text": [
      "Navigate to project, then navigate to area wwhere files were cloned\n",
      "show the contents of README.md\n",
      "\n",
      "[//]: # (This template replaces README.md when someone creates a new repo with the fastpages template.)\n",
      "\n",
      "![](https://github.com/nighthawkcoders/APCSP/workflows/CI/badge.svg) \n",
      "![](https://github.com/nighthawkcoders/APCSP/workflows/GH-Pages%20Status/badge.svg) \n",
      "[![](https://img.shields.io/static/v1?label=fastai&message=fastpages&color=57aeac&labelColor=black&style=flat&logo=data:image/png;base64,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)](https://github.com/fastai/fastpages)\n",
      "\n",
      "https://nighthawkcoders.github.io/APCSP/\n",
      "\n",
      "# My Blog\n",
      "\n",
      "\n",
      "_powered by [fastpages](https://github.com/fastai/fastpages)_\n",
      "\n",
      "\n",
      "## What To Do Next?\n",
      "\n",
      "Great!  You have setup your repo.  Now its time to start writing content.  Some helpful links:\n",
      "\n",
      "- [Writing Blogs With Jupyter](https://github.com/fastai/fastpages#writing-blog-posts-with-jupyter)\n",
      "\n",
      "- [Writing Blogs With Markdown](https://github.com/fastai/fastpages#writing-blog-posts-with-markdown)\n",
      "\n",
      "- [Writing Blog Posts With Word](https://github.com/fastai/fastpages#writing-blog-posts-with-microsoft-word)\n",
      "\n",
      "- [(Optional) Preview Your Blog Locally](_fastpages_docs/DEVELOPMENT.md)\n",
      "\n",
      "Note: you may want to remove example blog posts from the `_posts`,  `_notebooks` or `_word` folders (but leave them empty, don't delete these folders) if you don't want these blog posts to appear on your site.\n",
      "\n",
      "Please use the [nbdev & blogging channel](https://forums.fast.ai/c/fastai-users/nbdev/48) in the fastai forums for any questions or feature requests.\n",
      "\n",
      "end of README.md\n"
     ]
    }
   ],
   "source": [
    "echo \"Navigate to project, then navigate to area wwhere files were cloned\"\n",
    "\n",
    "cd $project\n",
    "echo \"show the contents of README.md\"\n",
    "echo \"\"\n",
    "\n",
    "cat README.md  # show contents of file, in this case markdown\n",
    "echo \"\"\n",
    "echo \"end of README.md\"\n"
   ]
  },
  {
   "cell_type": "code",
   "execution_count": 9,
   "metadata": {
    "vscode": {
     "languageId": "shellscript"
    }
   },
   "outputs": [
    {
     "name": "stdout",
     "output_type": "stream",
     "text": [
      "Show the shell environment variables, key on left of equal value on right\n",
      "\n",
      "SHELL=/bin/zsh\n",
      "TMPDIR=/var/folders/t5/fkg7hq2x4ml17j36_f8wxr000000gn/T/\n",
      "CONDA_SHLVL=1\n",
      "PYTHONUNBUFFERED=1\n",
      "CONDA_PROMPT_MODIFIER=(base) \n",
      "OLDPWD=/Users/kushsirohi/vscode/APCSP/_notebooks/images\n",
      "ORIGINAL_XDG_CURRENT_DESKTOP=undefined\n",
      "MallocNanoZone=0\n",
      "PYDEVD_USE_FRAME_EVAL=NO\n",
      "PYTHONIOENCODING=utf-8\n",
      "USER=kushsirohi\n",
      "COMMAND_MODE=unix2003\n",
      "CONDA_EXE=/Users/kushsirohi/opt/anaconda3/bin/conda\n",
      "SSH_AUTH_SOCK=/private/tmp/com.apple.launchd.bKkx8lvehq/Listeners\n",
      "__CF_USER_TEXT_ENCODING=0x1F5:0:0\n",
      "PAGER=cat\n",
      "VSCODE_AMD_ENTRYPOINT=vs/workbench/api/node/extensionHostProcess\n",
      "ELECTRON_RUN_AS_NODE=1\n",
      "_CE_CONDA=\n",
      "PATH=/Users/kushsirohi/opt/anaconda3/bin:/Users/kushsirohi/opt/anaconda3/condabin:/Library/Frameworks/Python.framework/Versions/2.7/bin:/Library/Frameworks/Python.framework/Versions/3.10/bin:/usr/local/bin:/usr/bin:/bin:/usr/sbin:/sbin:/usr/local/share/dotnet:~/.dotnet/tools:/Library/Apple/usr/bin:/Library/Frameworks/Mono.framework/Versions/Current/Commands\n",
      "CONDA_PREFIX=/Users/kushsirohi/opt/anaconda3\n",
      "__CFBundleIdentifier=com.microsoft.VSCode\n",
      "PWD=/Users/kushsirohi/vscode/APCSP\n",
      "notebooks=/Users/kushsirohi/vscode/APCSP/_notebooks\n",
      "VSCODE_HANDLES_UNCAUGHT_ERRORS=true\n",
      "project_repo=https://github.com/nighthawkcoders/APCSP.git\n",
      "project=/Users/kushsirohi/vscode/APCSP\n",
      "project_dir=/Users/kushsirohi/vscode\n",
      "XPC_FLAGS=0x0\n",
      "PS1=[PEXP\\[\\]ECT_PROMPT>\n",
      "_CE_M=\n",
      "XPC_SERVICE_NAME=0\n",
      "SHLVL=1\n",
      "HOME=/Users/kushsirohi\n",
      "APPLICATION_INSIGHTS_NO_DIAGNOSTIC_CHANNEL=1\n",
      "VSCODE_NLS_CONFIG={\"locale\":\"en-us\",\"availableLanguages\":{},\"_languagePackSupport\":true}\n",
      "CONDA_PYTHON_EXE=/Users/kushsirohi/opt/anaconda3/bin/python\n",
      "LOGNAME=kushsirohi\n",
      "LC_CTYPE=UTF-8\n",
      "VSCODE_IPC_HOOK=/Users/kushsirohi/Library/Application Support/Code/1.70.2-main.sock\n",
      "VSCODE_CODE_CACHE_PATH=/Users/kushsirohi/Library/Application Support/Code/CachedData/e4503b30fc78200f846c62cf8091b76ff5547662\n",
      "CONDA_DEFAULT_ENV=base\n",
      "VSCODE_PID=69626\n",
      "posts=/Users/kushsirohi/vscode/APCSP/_posts\n",
      "VSCODE_CWD=/\n",
      "_=/usr/bin/env\n"
     ]
    }
   ],
   "source": [
    "echo \"Show the shell environment variables, key on left of equal value on right\"\n",
    "echo \"\"\n",
    "\n",
    "env\n"
   ]
  },
  {
   "cell_type": "code",
   "execution_count": 10,
   "metadata": {
    "vscode": {
     "languageId": "shellscript"
    }
   },
   "outputs": [
    {
     "name": "stdout",
     "output_type": "stream",
     "text": [
      "\n",
      "show the secrets of .git\n",
      "total 72\n",
      "-rw-r--r--   1 kushsirohi  staff     23 Aug 25 11:32 HEAD\n",
      "-rw-r--r--   1 kushsirohi  staff    314 Aug 25 11:32 config\n",
      "-rw-r--r--   1 kushsirohi  staff     73 Aug 25 11:32 description\n",
      "drwxr-xr-x  15 kushsirohi  staff    480 Aug 25 11:32 hooks\n",
      "-rw-r--r--   1 kushsirohi  staff  20021 Aug 25 11:32 index\n",
      "drwxr-xr-x   3 kushsirohi  staff     96 Aug 25 11:32 info\n",
      "drwxr-xr-x   4 kushsirohi  staff    128 Aug 25 11:32 logs\n",
      "drwxr-xr-x   4 kushsirohi  staff    128 Aug 25 11:32 objects\n",
      "-rw-r--r--   1 kushsirohi  staff    271 Aug 25 11:32 packed-refs\n",
      "drwxr-xr-x   5 kushsirohi  staff    160 Aug 25 11:32 refs\n",
      "\n",
      "look at config file\n",
      "[core]\n",
      "\trepositoryformatversion = 0\n",
      "\tfilemode = true\n",
      "\tbare = false\n",
      "\tlogallrefupdates = true\n",
      "\tignorecase = true\n",
      "\tprecomposeunicode = true\n",
      "[remote \"origin\"]\n",
      "\turl = https://github.com/nighthawkcoders/APCSP.git\n",
      "\tfetch = +refs/heads/*:refs/remotes/origin/*\n",
      "[branch \"master\"]\n",
      "\tremote = origin\n",
      "\tmerge = refs/heads/master\n"
     ]
    }
   ],
   "source": [
    "cd $project\n",
    "\n",
    "echo \"\"\n",
    "echo \"show the secrets of .git\"\n",
    "cd .git\n",
    "ls -l\n",
    "\n",
    "echo \"\"\n",
    "echo \"look at config file\"\n",
    "cat config\n"
   ]
  },
  {
   "cell_type": "code",
   "execution_count": 11,
   "metadata": {
    "vscode": {
     "languageId": "shellscript"
    }
   },
   "outputs": [
    {
     "name": "stdout",
     "output_type": "stream",
     "text": [
      "\n",
      "File listing and status\n",
      "-rw-r--r--  1 kushsirohi  wheel  809 Aug 28 21:06 sample.md\n",
      "      15     132     809 sample.md\n",
      "bash: mdless: command not found\n"
     ]
    }
   ],
   "source": [
    "cd /tmp\n",
    "\n",
    "file=\"sample.md\"\n",
    "if [ -f \"$file\" ]; then\n",
    "    rm $file\n",
    "fi\n",
    "\n",
    "tee -a $file >/dev/null <<EOF\n",
    "# Show Generated Markdown\n",
    "This introductory paragraph and this line and the title above are generated using tee with the standard input (<<) redirection operator.\n",
    "- This bulleted element is still part of the tee body.\n",
    "EOF\n",
    "\n",
    "echo \"- This bulleted element and lines below are generated using echo with standard output (>>) redirection operator.\" >> $file\n",
    "echo \"- The list definition, as is, is using space to seperate lines.  Thus the use of commas and hyphens in output.\" >> $file\n",
    "actions=(\"ls,list-directory\" \"cd,change-directory\" \"pwd,present-working-directory\" \"if-then-fi,test-condition\" \"env,bash-environment-variables\" \"cat,view-file-contents\" \"tee,write-to-output\" \"echo,display-content-of-string\" \"echo_text_>\\$file,write-content-to-file\" \"echo_text_>>\\$file,append-content-to-file\")\n",
    "for action in ${actions[@]}; do  # for loop is very similar to other language, though [@], semi-colon, do are new\n",
    "  action=${action//-/ }  # convert dash to space\n",
    "  action=${action//,/: } # convert comma to colon\n",
    "  action=${action//_text_/ \\\"sample text\\\" } # convert _text_ to sample text, note escape character \\ to avoid \"\" having meaning\n",
    "  echo \"    - ${action//-/ }\" >> $file  # echo is redirected to file with >>\n",
    "done\n",
    "\n",
    "echo \"\"\n",
    "echo \"File listing and status\"\n",
    "ls -l $file # list file\n",
    "wc $file   # show words\n",
    "mdless $file  # this requires installation, but renders markown from terminal\n",
    "\n",
    "rm $file  # clean up termporary file"
   ]
  },
  {
   "cell_type": "code",
   "execution_count": null,
   "metadata": {
    "vscode": {
     "languageId": "shellscript"
    }
   },
   "outputs": [],
   "source": []
  }
 ],
 "metadata": {
  "kernelspec": {
   "display_name": "Bash",
   "language": "bash",
   "name": "bash"
  },
  "language_info": {
   "codemirror_mode": "shell",
   "file_extension": ".sh",
   "mimetype": "text/x-sh",
   "name": "bash"
  },
  "orig_nbformat": 4
 },
 "nbformat": 4,
 "nbformat_minor": 2
}

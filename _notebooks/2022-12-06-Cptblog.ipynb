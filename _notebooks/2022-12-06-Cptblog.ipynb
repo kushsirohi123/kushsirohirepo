{
 "cells": [
  {
   "attachments": {},
   "cell_type": "markdown",
   "metadata": {},
   "source": [
    "# CPT Blog\n",
    "> This is my feature cpt blog\n"
   ]
  },
  {
   "attachments": {},
   "cell_type": "markdown",
   "metadata": {},
   "source": [
    "Data abstraction\n",
    "The first part of the data abstraction of the quiz is the questions. It gets the questions and the multiple choice options from the quiz to display for the user. \n"
   ]
  },
  {
   "cell_type": "code",
   "execution_count": null,
   "metadata": {},
   "outputs": [],
   "source": [
    "let MCQS = [{\n",
    "    question: \"What is a stock?\",\n",
    "    choice1: \"A type of currency\",\n",
    "    choice2: \"A type of investment\",\n",
    "    choice3: \"A type of insurance\",\n",
    "    choice4: \"A type of real estate\",\n",
    "    answer: 1\n",
    "},\n",
    "            {\n",
    "            question: \"What is the difference between a stock and a bond?\",\n",
    "    choice1: \"Stocks pay interest while bonds pay dividends\",\n",
    "    choice2: \"Stocks are riskier than bonds\",\n",
    "    choice3: \"Stocks represent ownership in a company while bonds represent a loan to a company\",\n",
    "    choice4: \"Stocks have a fixed maturity date while bonds do not\",\n",
    "    answer: 2\n",
    "},\n",
    "            {\n",
    "            question: \"How is the value of a stock determined?\",\n",
    "    choice1: \"By the supply and demand of stock in the market \",\n",
    "    choice2: \"By the amount of dividends paid by the company\",\n",
    "    choice3: \"By the company's revenue\",\n",
    "    choice4: \"By the company's net income\",\n",
    "    answer: 1\n",
    "},\n",
    "            {\n",
    "            question: \"What is a dividend?\",\n",
    "    choice1: \"A payment made by a company to its shareholders\",\n",
    "    choice2: \"A type of bond\",\n",
    "    choice3: \"A type of stock index\",\n",
    "    choice4: \"A tax paid on stocks\",\n",
    "    answer: 0\n",
    "},\n",
    "            {\n",
    "            question: \"What is a stock market index?\",\n",
    "    choice1: \"A type of bond\",\n",
    "    choice2: \"//This Is Comment\",\n",
    "    choice3: \"< measure of the performance of a group of stocks\",\n",
    "    choice4: \"A measure of the risk of a stock\",\n",
    "    answer: 1\n",
    "},\n",
    "            {\n",
    "            question: \"What is the difference between a bull market and a bear market\",\n",
    "    choice1: \"A bull market is when the stock market is up and a bear market is when the stock market is down\",\n",
    "    choice2: \"A bull market is when investors are optimistic and a bear market is when investors are pessimistic\",\n",
    "    choice3: \"A bull market is when interest rates are high and a bear market is when interest rates are low\",\n",
    "    choice4: \" A bull market is when the government is spending a lot of money and a bear market is when the government is cutting spending\",\n",
    "    answer: 2\n",
    "},\n",
    "            {\n",
    "               question: \"What is a stock split?\",\n",
    "    choice1: \"When a company buys back its own shares\",\n",
    "    choice2: \"When a company issues new shares of stock\",\n",
    "    choice3: \"CWhen a company reduces the number of shares outstanding\",\n",
    "    choice4: \"When a company increases the number of shares outstanding\",\n",
    "    answer: 3\n",
    "},{\n",
    "               question: \"What is insider trading\",\n",
    "    choice1: \"When a company's executives trade their own company's stock\",\n",
    "    choice2: \"When a company trades with another company\",\n",
    "    choice3: \"When a company buys back its own stock\",\n",
    "    choice4: \"When a company issues new shares of stock\",\n",
    "    answer: 2\n",
    "},\n",
    "            {\n",
    "               question: \"What is a stock option\",\n",
    "    choice1: \"<An option to buy or sell a stock at a certain price within a certain time frame\",\n",
    "    choice2: \"An option to receive a dividend from a stock\",\n",
    "    choice3: \"An option to trade stocks with another investor\",\n",
    "    choice4: \"An option to hold a stock indefinitely\",\n",
    "    answer: 2\n",
    "},\n",
    "            {\n",
    "               question: \"What is a stock exchange?\",\n",
    "    choice1: \"A place where stocks are bought and sold\",\n",
    "    choice2: \"A type of bond\",\n",
    "    choice3: \"A type of stock\",\n",
    "    choice4: \"A type of mutual fund\",\n",
    "    answer: 0\n",
    "}];"
   ]
  },
  {
   "attachments": {},
   "cell_type": "markdown",
   "metadata": {},
   "source": [
    "\n",
    "\n",
    "![Image](../images/Screen%20Shot%202023-03-01%20at%2012.36.35%20PM.png)\n",
    "\n",
    "\n",
    "# This is data abstraction:\n",
    "\n",
    "\n",
    "![Imageone](../images/codeythingy.png)"
   ]
  }
 ],
 "metadata": {
  "kernelspec": {
   "display_name": "Python 3",
   "language": "python",
   "name": "python3"
  },
  "language_info": {
   "name": "python",
   "version": "3.11.1 (v3.11.1:a7a450f84a, Dec  6 2022, 15:24:06) [Clang 13.0.0 (clang-1300.0.29.30)]"
  },
  "orig_nbformat": 4,
  "vscode": {
   "interpreter": {
    "hash": "aee8b7b246df8f9039afb4144a1f6fd8d2ca17a180786b69acc140d282b71a49"
   }
  }
 },
 "nbformat": 4,
 "nbformat_minor": 2
}

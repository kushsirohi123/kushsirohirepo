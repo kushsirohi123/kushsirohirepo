{
 "cells": [
  {
   "attachments": {},
   "cell_type": "markdown",
   "metadata": {},
   "source": [
    "# Hacks / Notes 9 & 11\n",
    "- toc: true\n",
    "- badges: true\n",
    "- comments: true"
   ]
  },
  {
   "attachments": {},
   "cell_type": "markdown",
   "metadata": {},
   "source": [
    "### Unit 3.9.1 Hacks\n",
    "\n",
    "1) It is important to know that algorithms can have different results even though they look the same because it is good to know different ways to accomplish the same thing. This can help visualized the steps and process to make the coding process more efficient. \n",
    "\n",
    "In addition algorithms having different outputs but similar code is important to know when trouble shooting code in order to find out what is wrong. "
   ]
  },
  {
   "cell_type": "code",
   "execution_count": null,
   "metadata": {},
   "outputs": [],
   "source": [
    "isTeams = False\n",
    "isScore = True\n",
    "\n",
    "if isTeams == True:\n",
    "   print(\"You didn't win the game yet!\")\n",
    "else: \n",
    "   if isScore == True:\n",
    "      print(\"You won!\")\n",
    "   else: \n",
    "      print(\"You didn't win the game yet!\")"
   ]
  },
  {
   "attachments": {},
   "cell_type": "markdown",
   "metadata": {},
   "source": [
    "You won!"
   ]
  },
  {
   "cell_type": "code",
   "execution_count": null,
   "metadata": {},
   "outputs": [],
   "source": [
    "isTeams = False\n",
    "isScore = True\n",
    "\n",
    "winGame = not(isTeams) and isScore\n",
    "if winGame == False:\n",
    "    print(\"You didn't win the game yet!\")\n",
    "if winGame == True:\n",
    "    print(\"You won the game!\")"
   ]
  },
  {
   "attachments": {},
   "cell_type": "markdown",
   "metadata": {},
   "source": [
    "You won the game!"
   ]
  },
  {
   "attachments": {},
   "cell_type": "markdown",
   "metadata": {},
   "source": [
    "### 3.9.2 Hacks\n",
    "\n",
    "Flow chart: natural lan    \n",
    "\n",
    "So if it is raining, and the temp is less then 45 degrees, then you should wear multiple layers, but if it isn't then, you can wear what ever u want. Although if it isn't raining, then it asks"
   ]
  },
  {
   "cell_type": "code",
   "execution_count": null,
   "metadata": {},
   "outputs": [],
   "source": [
    "isRaining = True\n",
    "temp = 70\n",
    "if isRaining == True and temp <  45:\n",
    "      print(\"Wear multiple layers.\")\n",
    "else:\n",
    "   if temp > 45:\n",
    "      print(\"Wear whatever u want\")\n",
    "   else:\n",
    "      if isRaining == False:\n",
    "         bro = input(\"is it sunny or snowing?\") \n",
    "      else:\n",
    "          print(\"what is the weather like?\")"
   ]
  },
  {
   "attachments": {},
   "cell_type": "markdown",
   "metadata": {},
   "source": [
    "Wear whatever u want"
   ]
  },
  {
   "attachments": {},
   "cell_type": "markdown",
   "metadata": {},
   "source": [
    "### 3.9.3 Hacks"
   ]
  },
  {
   "cell_type": "code",
   "execution_count": null,
   "metadata": {},
   "outputs": [],
   "source": [
    "import random\n",
    "\n",
    "#sets variables for the game\n",
    "num_guesses = 0\n",
    "user_guess = 0\n",
    "upper_bound = 100\n",
    "lower_bound = 0\n",
    "\n",
    "#generates a random number\n",
    "number = random.randint(1,100)\n",
    "\n",
    "# print(number)     #for testing purposes\n",
    "\n",
    "print(f\"I'm thinking of a number between 1 and 100.\")\n",
    "\n",
    "#Write a function that gets a guess from the user using input()\n",
    "def guess():\n",
    "    return #add something here \n",
    "\n",
    "#Change the print statements to give feedback on whether the player guessed too high or too low\n",
    "def search(number, guess):\n",
    "    global lower_bound, upper_bound\n",
    "    if guess < number:\n",
    "        print(\"You are bad at guessing\") #change this\n",
    "        lower_bound = guess\n",
    "    elif guess > number:\n",
    "        print(\"You suck :(\") #change this\n",
    "        upper_bound = guess\n",
    "    return lower_bound, upper_bound\n",
    "\n",
    "while user_guess != number:\n",
    "    user_guess = guess()\n",
    "    num_guesses += 1\n",
    "    print(f\"You guessed {user_guess}.\")\n",
    "    lower_bound, upper_bound = search(number, user_guess)\n",
    "    print(f\"Guess a number between {lower_bound} and {upper_bound}.\")\n",
    "\n",
    "print(f\"You guessed the number in {num_guesses} guesses!\")"
   ]
  },
  {
   "attachments": {},
   "cell_type": "markdown",
   "metadata": {},
   "source": [
    "I'm thinking of a number between 1 and 100.  \n",
    "You guessed None."
   ]
  },
  {
   "cell_type": "code",
   "execution_count": null,
   "metadata": {},
   "outputs": [],
   "source": [
    "num = random.randint(0, 100)\n",
    "#print(num)\n",
    "var = False\n",
    "while var == False:\n",
    "   put = input(\"I am thinking of a number from between 1-100.\")\n",
    "   print(put)\n",
    "   if num < int(put):\n",
    "      print(\"Guess a lower number\")\n",
    "   if int(put) < num:\n",
    "      print(\"Guess a higher number\")\n",
    "   if num == int(put):\n",
    "      print(\"Good Job, You guessed the right number!\")\n",
    "      var = True"
   ]
  },
  {
   "attachments": {},
   "cell_type": "markdown",
   "metadata": {},
   "source": [
    "50  \n",
    "Guess a higher number  \n",
    "60  \n",
    "Guess a higher number  \n",
    "70  \n",
    "Guess a higher number  \n",
    "80  \n",
    "Guess a higher number  \n",
    "90  \n",
    "Guess a lower number  \n",
    "90  \n",
    "Guess a lower number  \n",
    "85  \n",
    "Guess a lower number  \n",
    "83  \n",
    "Guess a higher number  \n",
    "84  \n",
    "Good Job, You guessed the right number!  "
   ]
  },
  {
   "cell_type": "markdown",
   "metadata": {},
   "source": [
    "### 3.11 Hacks"
   ]
  },
  {
   "cell_type": "code",
   "execution_count": null,
   "metadata": {},
   "outputs": [],
   "source": [
    "index = [12, 14, 43, 57, 79, 80, 99]\n",
    "\n",
    "mid = int(len(index) / 2) \n",
    "print(mid)\n",
    "print(index[mid])"
   ]
  },
  {
   "attachments": {},
   "cell_type": "markdown",
   "metadata": {},
   "source": [
    "3  \n",
    "57  "
   ]
  },
  {
   "cell_type": "code",
   "execution_count": null,
   "metadata": {},
   "outputs": [],
   "source": [
    "index = [92, 43, 74, 66, 30, 12, 1]\n",
    "\n",
    "mid = int(len(index) / 2) \n",
    "print(mid)\n",
    "print(index[mid])"
   ]
  },
  {
   "attachments": {},
   "cell_type": "markdown",
   "metadata": {},
   "source": [
    "3  \n",
    "66"
   ]
  },
  {
   "cell_type": "code",
   "execution_count": null,
   "metadata": {},
   "outputs": [],
   "source": [
    "index = [7, 13, 96, 111, 33, 84, 60]\n",
    "\n",
    "mid = int(len(index) / 2) \n",
    "print(mid)\n",
    "print(index[mid])"
   ]
  },
  {
   "attachments": {},
   "cell_type": "markdown",
   "metadata": {},
   "source": [
    "3  \n",
    "111"
   ]
  }
 ],
 "metadata": {
  "language_info": {
   "name": "python"
  },
  "orig_nbformat": 4
 },
 "nbformat": 4,
 "nbformat_minor": 2
}

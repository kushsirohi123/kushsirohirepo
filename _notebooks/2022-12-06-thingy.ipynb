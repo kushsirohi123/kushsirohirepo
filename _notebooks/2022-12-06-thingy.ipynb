{
 "cells": [
  {
   "cell_type": "code",
   "execution_count": 4,
   "metadata": {},
   "outputs": [
    {
     "name": "stdout",
     "output_type": "stream",
     "text": [
      "49.96\n"
     ]
    }
   ],
   "source": [
    "menu = [    ['Margherita', 'Small', 8.99],\n",
    "    ['Margherita', 'Medium', 10.99],\n",
    "    ['Margherita', 'Large', 12.99],\n",
    "    ['Pepperoni', 'Small', 9.99],\n",
    "    ['Pepperoni', 'Medium', 11.99],\n",
    "    ['Pepperoni', 'Large', 13.99],\n",
    "    ['Vegetarian', 'Small', 10.99], \n",
    "    ['Vegetarian', 'Medium', 12.99],\n",
    "    ['Vegetarian', 'Large', 14.99]\n",
    "]\n",
    "\n",
    "order = [    ['Margherita', 'Medium', 1],\n",
    "    ['Pepperoni', 'Large', 2],\n",
    "    ['Vegetarian', 'Small', 1]\n",
    "]\n",
    "\n",
    "total_cost = 0\n",
    "for item in order:\n",
    "    for pizza in menu:\n",
    "        if item[0] == pizza[0] and item[1] == pizza[1]:\n",
    "            total_cost += pizza[2] * item[2]\n",
    "print(total_cost)\n",
    "\n",
    "\n",
    "\n"
   ]
  }
 ],
 "metadata": {
  "kernelspec": {
   "display_name": "base",
   "language": "python",
   "name": "python3"
  },
  "language_info": {
   "codemirror_mode": {
    "name": "ipython",
    "version": 3
   },
   "file_extension": ".py",
   "mimetype": "text/x-python",
   "name": "python",
   "nbconvert_exporter": "python",
   "pygments_lexer": "ipython3",
   "version": "3.9.12"
  },
  "orig_nbformat": 4
 },
 "nbformat": 4,
 "nbformat_minor": 2
}

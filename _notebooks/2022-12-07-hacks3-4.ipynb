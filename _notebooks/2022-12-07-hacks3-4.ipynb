{
 "cells": [
  {
   "attachments": {},
   "cell_type": "markdown",
   "metadata": {},
   "source": [
    "# Hacks / Notes 3 & 4"
   ]
  },
  {
   "attachments": {},
   "cell_type": "markdown",
   "metadata": {},
   "source": [
    "#### What is an algorithms?\n",
    "- An algorithm is a finite set of instruction that accomplish a task, it can be expressed by natural language, diagrams, and various other ways.\n",
    "\n",
    "#### What are the three parts of an algorithm?\n",
    "- Sequencing, selection, and iteration.\n",
    "\n",
    "- Every algorithm can be created by a mixture of sequencing, selection, and iteration\n",
    "\n",
    "#### Sequence?\n",
    "- A sequence is the order of how to do something to achieve a result, similarly to how you follow the instructions from a teacher. \n",
    "\n",
    "#### Selection?\n",
    "- A selection allows an algorithm to make a decision based on if a condition is met, an example of this is when your car is out of fuel, you go to the gas station to fill your car, but if your car is full you wouldn't go to the gas station.\n",
    "\n",
    "\n",
    "#### Iteration?\n",
    "- An iteration is a loop and doing something again until a condition is met, like you put away your computer when you are finished with your work.\n",
    "\n",
    "#### What is a Substring?\n",
    "- A substring is part of an existing string\n",
    "\n",
    "Personal Notes & Topics to Study\n",
    "\n",
    "- Conditions within Iterations\n",
    "- Sequencing\n",
    "- Usage of SubStrings\n",
    "    EX: print(string[5:10])"
   ]
  },
  {
   "cell_type": "code",
   "execution_count": null,
   "metadata": {},
   "outputs": [],
   "source": [
    "num1 = 6\n",
    "num2 = num1 * 3\n",
    "num3 = num2 / num1 * (9 % 2) * 4\n",
    "result = (num3 % num1 + num2) % num3 * 3 / 5\n",
    "print(result)"
   ]
  },
  {
   "attachments": {},
   "cell_type": "markdown",
   "metadata": {},
   "source": [
    "- You will describe the different parts of an algorithm, sequencing, selection, and iteration in the image below. \n",
    "\n",
    "\n",
    "- sequencing: 1, 2\n",
    "- Selection: 3, 5\n",
    "- Iteration: 4"
   ]
  },
  {
   "cell_type": "markdown",
   "metadata": {},
   "source": [
    "CrossWord Puzzle Hack\n",
    "\n",
    "1. Recursive\n",
    "2. Selection\n",
    "3. Sequence"
   ]
  }
 ],
 "metadata": {
  "language_info": {
   "name": "python"
  },
  "orig_nbformat": 4
 },
 "nbformat": 4,
 "nbformat_minor": 2
}

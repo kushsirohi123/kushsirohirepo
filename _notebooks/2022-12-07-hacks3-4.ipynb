{
 "cells": [
  {
   "attachments": {},
   "cell_type": "markdown",
   "metadata": {},
   "source": [
    "# Hacks / Notes 3 & 4"
   ]
  },
  {
   "attachments": {},
   "cell_type": "markdown",
   "metadata": {},
   "source": [
    "#### What is an algorithms?\n",
    "    An algorithm is a set sequnce that is made to solve a problem\n",
    "#### What are the three parts of an algorithm?\n",
    "- Sequencing, selection, and iteration.\n",
    "\n",
    "- Every algorithm can be created by a mixture of sequencing, selection, and iteration\n",
    "\n",
    "#### Sequence?\n",
    "    A sequence is the order that you want to do things in\n",
    "#### Selection?\n",
    "    The selection allows you to choose what order you do things in. For example, most people brush their teeth in the morning and night, but if you do it in the day, thats a different selection. \n",
    "\n",
    "#### Iteration?\n",
    "    - iterating is looping something over and over again \n",
    "\n",
    "#### What is a Substring?\n",
    "- A substring is part of an existing string\n"
   ]
  },
  {
   "cell_type": "code",
   "execution_count": null,
   "metadata": {},
   "outputs": [],
   "source": [
    "num1 = 6\n",
    "num2 = num1 * 3\n",
    "num3 = num2 / num1 * (9 % 2) * 4\n",
    "result = (num3 % num1 + num2) % num3 * 3 / 5\n",
    "print(result)"
   ]
  },
  {
   "cell_type": "markdown",
   "metadata": {},
   "source": [
    "CrossWord Puzzle Hack\n",
    "\n",
    "1. Recursive\n",
    "2. Selection\n",
    "3. Sequence"
   ]
  }
 ],
 "metadata": {
  "language_info": {
   "name": "python"
  },
  "orig_nbformat": 4
 },
 "nbformat": 4,
 "nbformat_minor": 2
}

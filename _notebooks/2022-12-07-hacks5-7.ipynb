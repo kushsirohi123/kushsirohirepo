{
 "cells": [
  {
   "attachments": {},
   "cell_type": "markdown",
   "metadata": {},
   "source": [
    "# Hacks / Notes 5 & 7\n",
    "> Hacks and notes on 5 and 7\n",
    "\n",
    "- toc: true \n",
    "- badges: true\n",
    "- comments: true\n",
    "- categories: [collegeboard, ]"
   ]
  },
  {
   "cell_type": "code",
   "execution_count": null,
   "metadata": {},
   "outputs": [],
   "source": [
    "isRaining = False\n",
    "result = not(isRaining)\n",
    "print(result)"
   ]
  },
  {
   "cell_type": "markdown",
   "metadata": {},
   "source": [
    "true"
   ]
  },
  {
   "cell_type": "code",
   "execution_count": null,
   "metadata": {},
   "outputs": [],
   "source": [
    "grade = 75\n",
    "\n",
    "# Has to be between 70 and 100\n",
    "\n",
    "if grade > 70 and grade <= 100:\n",
    "    print(\"You passed the quiz\")"
   ]
  },
  {
   "cell_type": "markdown",
   "metadata": {},
   "source": [
    "You passed the quiz"
   ]
  },
  {
   "attachments": {},
   "cell_type": "markdown",
   "metadata": {},
   "source": [
    "Logical Operator \n",
    "    - a logical operator is a symbol that you are connection two or more elemnts, for example, addition, subtraction, division, multiplication\n",
    "Selection\n",
    "- The specific block of code that will execute depending on the algorithm condition returning true or false.\n",
    "Algorithm\n",
    "- A specific task that is completed with the use of instructions\n",
    "Conditional Statement / If-Statement:\n",
    "- A statement that only happens under certain conditions that you control "
   ]
  },
  {
   "cell_type": "code",
   "execution_count": null,
   "metadata": {},
   "outputs": [],
   "source": [
    "SoccerMinutesPlayed = 48\n",
    "\n",
    "if SoccerMinutesPlayed > 40:\n",
    "    print(\"you played over half the soccer game, congradulations!\")\n",
    "else:\n",
    "    print(\"You need to train more\")\n",
    "\n",
    "# Adding another variation to the hack"
   ]
  },
  {
   "cell_type": "markdown",
   "metadata": {},
   "source": [
    "True\n",
    "You passed the quiz\n",
    "you played over half the soccer game, congradulations!"
   ]
  },
  {
   "cell_type": "code",
   "execution_count": null,
   "metadata": {},
   "outputs": [],
   "source": [
    "import random\n",
    "\n",
    "a_list = [27, 32, 96,]\n",
    "random.shuffle(a_list)\n",
    "\n",
    "a_list[0]\n",
    "\n",
    "if a_list == 27:\n",
    "    print(result)\n",
    "else:\n",
    "    print('your number is not 27')\n",
    "\n",
    "# If statement"
   ]
  },
  {
   "cell_type": "markdown",
   "metadata": {},
   "source": [
    "your number is not 27"
   ]
  },
  {
   "cell_type": "code",
   "execution_count": null,
   "metadata": {},
   "outputs": [],
   "source": [
    "import random\n",
    "a=random.randint(1,100)\n",
    "print(a)"
   ]
  },
  {
   "cell_type": "markdown",
   "metadata": {},
   "source": [
    "44"
   ]
  }
 ],
 "metadata": {
  "kernelspec": {
   "display_name": "Python 3",
   "language": "python",
   "name": "python3"
  },
  "language_info": {
   "name": "python",
   "version": "3.11.1 (v3.11.1:a7a450f84a, Dec  6 2022, 15:24:06) [Clang 13.0.0 (clang-1300.0.29.30)]"
  },
  "orig_nbformat": 4,
  "vscode": {
   "interpreter": {
    "hash": "aee8b7b246df8f9039afb4144a1f6fd8d2ca17a180786b69acc140d282b71a49"
   }
  }
 },
 "nbformat": 4,
 "nbformat_minor": 2
}

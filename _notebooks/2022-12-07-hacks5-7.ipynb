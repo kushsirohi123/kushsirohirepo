{
 "cells": [
  {
   "attachments": {},
   "cell_type": "markdown",
   "metadata": {},
   "source": [
    "# Hacks / Notes 5 & 7\n",
    "> Hacks and notes on 5 and 7\n",
    "\n",
    "- toc: true \n",
    "- badges: true\n",
    "- comments: true\n",
    "- categories: [collegeboard, ]"
   ]
  },
  {
   "cell_type": "code",
   "execution_count": null,
   "metadata": {},
   "outputs": [],
   "source": [
    "isRaining = False\n",
    "result = not(isRaining)\n",
    "print(result)"
   ]
  },
  {
   "cell_type": "markdown",
   "metadata": {},
   "source": [
    "true"
   ]
  },
  {
   "cell_type": "code",
   "execution_count": null,
   "metadata": {},
   "outputs": [],
   "source": [
    "grade = 75\n",
    "\n",
    "# Has to be between 70 and 100\n",
    "\n",
    "if grade > 70 and grade <= 100:\n",
    "    print(\"You passed the quiz\")"
   ]
  },
  {
   "cell_type": "markdown",
   "metadata": {},
   "source": [
    "You passed the quiz"
   ]
  },
  {
   "cell_type": "markdown",
   "metadata": {},
   "source": [
    "Logical Operator \n",
    "- A logical operator is a symbol or word used to connect two or more expressions\n",
    "Selection\n",
    "- The specific block of code that will execute depending on the algorithm condition returning true or false.\n",
    "Algorithm\n",
    "- A specific task that is completed with the use of instructions\n",
    "Conditional Statement / If-Statement:\n",
    "- A statement that affects the sequence of control by executing certain statements depending on the value of a boolean (true or false)."
   ]
  },
  {
   "cell_type": "code",
   "execution_count": null,
   "metadata": {},
   "outputs": [],
   "source": [
    "SoccerMinutesPlayed = 48\n",
    "\n",
    "if SoccerMinutesPlayed > 40:\n",
    "    print(\"you played over half the soccer game, congradulations!\")\n",
    "else:\n",
    "    print(\"You need to train more\")\n",
    "\n",
    "# Adding another variation to the hack"
   ]
  },
  {
   "cell_type": "markdown",
   "metadata": {},
   "source": [
    "True\n",
    "You passed the quiz\n",
    "you played over half the soccer game, congradulations!"
   ]
  },
  {
   "cell_type": "code",
   "execution_count": null,
   "metadata": {},
   "outputs": [],
   "source": [
    "import random\n",
    "\n",
    "a_list = [27, 32, 96,]\n",
    "random.shuffle(a_list)\n",
    "\n",
    "a_list[0]\n",
    "\n",
    "if a_list == 27:\n",
    "    print(result)\n",
    "else:\n",
    "    print('your number is not 27')\n",
    "\n",
    "# If statement"
   ]
  },
  {
   "cell_type": "markdown",
   "metadata": {},
   "source": [
    "your number is not 27"
   ]
  },
  {
   "cell_type": "code",
   "execution_count": null,
   "metadata": {},
   "outputs": [],
   "source": [
    "import random\n",
    "a=random.randint(1,100)\n",
    "print(a)"
   ]
  },
  {
   "cell_type": "markdown",
   "metadata": {},
   "source": [
    "44"
   ]
  }
 ],
 "metadata": {
  "language_info": {
   "name": "python"
  },
  "orig_nbformat": 4
 },
 "nbformat": 4,
 "nbformat_minor": 2
}

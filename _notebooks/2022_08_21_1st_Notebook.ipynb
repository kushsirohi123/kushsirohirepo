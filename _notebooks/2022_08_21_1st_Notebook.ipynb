{
  "cells": [
    {
      "cell_type": "markdown",
      "metadata": {
        "id": "dAd1Oo8ggRsL"
      },
      "source": [
        "# First Jupyter Notebook\n",
        "> In this notebook, I'll print Hello World\n",
        "\n",
        "- toc: true\n",
        "- badges: true\n",
        "- comments: true\n",
        "- categories: [jupyter]"
      ]
    },
    {
      "cell_type": "markdown",
      "metadata": {
        "id": "crxcUxOggRsP"
      },
      "source": []
    },
    {
      "cell_type": "code",
      "execution_count": 1,
      "metadata": {
        "colab": {
          "base_uri": "https://localhost:8080/"
        },
        "id": "5TlkTfEUgRsP",
        "outputId": "d1763241-75bd-4024-8a91-cb0721e008ac",
        "vscode": {
          "languageId": "shellscript"
        }
      },
      "outputs": [
        {
          "name": "stdout",
          "output_type": "stream",
          "text": [
            "hello world\n"
          ]
        }
      ],
      "source": [
        "print(\"hello world\")"
      ]
    },
    {
      "cell_type": "code",
      "execution_count": null,
      "metadata": {
        "id": "4Jv42SqDuZaB",
        "vscode": {
          "languageId": "shellscript"
        }
      },
      "outputs": [],
      "source": []
    }
  ],
  "metadata": {
    "colab": {
      "name": "2022-08-21-1st_Notebook.ipynb",
      "provenance": []
    },
    "kernelspec": {
      "display_name": "Bash",
      "language": "bash",
      "name": "bash"
    },
    "language_info": {
      "codemirror_mode": {
        "name": "ipython",
        "version": 3
      },
      "file_extension": ".py",
      "mimetype": "text/x-python",
      "name": "bash",
      "nbconvert_exporter": "python",
      "pygments_lexer": "ipython3",
      "version": "3.9.12"
    },
    "orig_nbformat": 4,
    "vscode": {
      "interpreter": {
        "hash": "36ac99974a67ba75ab4929ee9ef936c7cb2a4690d97ade6d3ca6bd9cb1ab7116"
      }
    }
  },
  "nbformat": 4,
  "nbformat_minor": 0
}

{
 "cells": [
  {
   "cell_type": "markdown",
   "metadata": {},
   "source": [
    "# Python Kernel Notebook"
   ]
  },
  {
   "cell_type": "markdown",
   "metadata": {},
   "source": [
    "# Python Kernel Notebook \n",
    "\n",
    "- toc: true\n",
    "- comments: true\n",
    "- categories: [jupyter]"
   ]
  },
  {
   "cell_type": "code",
   "execution_count": 5,
   "metadata": {
    "vscode": {
     "languageId": "shellscript"
    }
   },
   "outputs": [
    {
     "name": "stdout",
     "output_type": "stream",
     "text": [
      "Please select the action.\n",
      "a. Addition\n",
      "b. Subtraction\n",
      "c. Multiplication\n",
      "d. Division\n",
      "4  +  4  =  8\n",
      "Action Finished\n"
     ]
    }
   ],
   "source": [
    "def add(F, S):    \n",
    "   return F + S   \n",
    "  \n",
    "def subtract(F, S):   \n",
    "   return F - S \n",
    "\n",
    "def multiplication(F, S):   \n",
    "   return F * S\n",
    "\n",
    "def division(F, S):   \n",
    "   return F / S \n",
    "\n",
    "\n",
    "print (\"Please select the action.\")    \n",
    "print (\"a. Addition\")    \n",
    "print (\"b. Subtraction\") \n",
    "print (\"c. Multiplication\")  \n",
    "print (\"d. Division\")    \n",
    "\n",
    "\n",
    "\n",
    "choice = input(\"What action:\")    \n",
    "    \n",
    "number1= int (input (\" What is the First number?: \"))    \n",
    "number2= int (input (\"What is the Second number?: \"))    \n",
    "    \n",
    "if choice == 'a':    \n",
    "   print (number1, \" + \", number2, \" = \", add(number1, number2))    \n",
    "    \n",
    "elif choice == 'b':    \n",
    "   print (number1, \" - \", number2, \" = \", subtract(number1, number2))\n",
    "          \n",
    "if choice == 'c':    \n",
    "   print (number1, \" * \", number2, \" = \", multiplication(number1, number2))    \n",
    "     \n",
    "elif choice == 'd':    \n",
    "   print (number1, \"/ \", number2, \" = \", division(number1, number2))\n",
    "\n",
    "else:\n",
    "  print(\"Action Finished\")\n",
    "\n"
   ]
  }
 ],
 "metadata": {
  "kernelspec": {
   "display_name": "Bash",
   "language": "bash",
   "name": "bash"
  },
  "language_info": {
   "codemirror_mode": {
    "name": "ipython",
    "version": 3
   },
   "file_extension": ".py",
   "mimetype": "text/x-python",
   "name": "bash",
   "nbconvert_exporter": "python",
   "pygments_lexer": "ipython3",
   "version": "3.9.12"
  },
  "orig_nbformat": 4,
  "vscode": {
   "interpreter": {
    "hash": "40d3a090f54c6569ab1632332b64b2c03c39dcf918b08424e98f38b5ae0af88f"
   }
  }
 },
 "nbformat": 4,
 "nbformat_minor": 2
}

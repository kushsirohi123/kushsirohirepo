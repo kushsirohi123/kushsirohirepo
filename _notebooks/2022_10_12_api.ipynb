{
 "cells": [
  {
   "cell_type": "markdown",
   "metadata": {},
   "source": [
    "# API "
   ]
  },
  {
   "cell_type": "code",
   "execution_count": 3,
   "metadata": {},
   "outputs": [
    {
     "name": "stdout",
     "output_type": "stream",
     "text": [
      "{\"id\":4792,\"iata\":\"MMH\",\"icao\":\"KMMH\",\"name\":\"Mammoth Yosemite Airport\",\"location\":\"Mammoth Lakes, California, United States\",\"street_number\":\"1300\",\"street\":\"Airport Road\",\"city\":\"Mammoth Lakes\",\"county\":\"Mono County\",\"state\":\"California\",\"country_iso\":\"US\",\"country\":\"United States\",\"postal_code\":\"93546\",\"phone\":\"+1 760-934-3813\",\"latitude\":37.624462,\"longitude\":-118.83885,\"uct\":-420,\"website\":\"http://www.ci.mammoth-lakes.ca.us/index.aspx?nid=97\"}\n",
      "\n"
     ]
    }
   ],
   "source": [
    "import requests\n",
    "\n",
    "url = \"https://airport-info.p.rapidapi.com/airport\"\n",
    "\n",
    "querystring = {\"iata\":\"MMH\"}\n",
    "\n",
    "headers = {\n",
    "\t\"X-RapidAPI-Key\": \"8b309f7bb3msh30a47da96adbc02p114e5cjsn2fd12159e66c\",\n",
    "\t\"X-RapidAPI-Host\": \"airport-info.p.rapidapi.com\"\n",
    "}\n",
    "\n",
    "response = requests.request(\"GET\", url, headers=headers, params=querystring)\n",
    "\n",
    "print(response.text)"
   ]
  }
 ],
 "metadata": {
  "kernelspec": {
   "display_name": "Python 3.10.2 64-bit",
   "language": "python",
   "name": "python3"
  },
  "language_info": {
   "codemirror_mode": {
    "name": "ipython",
    "version": 3
   },
   "file_extension": ".py",
   "mimetype": "text/x-python",
   "name": "python",
   "nbconvert_exporter": "python",
   "pygments_lexer": "ipython3",
   "version": "3.10.2"
  },
  "orig_nbformat": 4,
  "vscode": {
   "interpreter": {
    "hash": "aee8b7b246df8f9039afb4144a1f6fd8d2ca17a180786b69acc140d282b71a49"
   }
  }
 },
 "nbformat": 4,
 "nbformat_minor": 2
}

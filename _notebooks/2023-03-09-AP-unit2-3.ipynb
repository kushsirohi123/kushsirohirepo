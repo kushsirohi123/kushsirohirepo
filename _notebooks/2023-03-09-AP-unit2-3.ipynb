{
 "cells": [
  {
   "attachments": {},
   "cell_type": "markdown",
   "metadata": {},
   "source": [
    "#  Unit 2.3 Extracting Information from Data, Pandas\n",
    "> Data connections, trends, and correlation.  Pandas is introduced as it could be valuable for PBL, data validation, as well as understanding College Board Topics.\n",
    "- toc: true\n",
    "- image: /images/python.png\n",
    "- categories: collegeboard\n"
   ]
  },
  {
   "attachments": {},
   "cell_type": "markdown",
   "metadata": {},
   "source": [
    "# Pandas and DataFrames\n",
    "> In this lesson we will be exploring data analysis using Pandas.  \n",
    "\n",
    "- College Board talks about ideas like \n",
    "    - Tools. \"the ability to process data depends on users capabilities and their tools\"\n",
    "    - Combining Data.  \"combine county data sets\"\n",
    "    - Status on Data\"determining the artist with the greatest attendance during a particular month\"\n",
    "    - Data poses challenge. \"the need to clean data\", \"incomplete data\"\n",
    "\n",
    "\n",
    "- [From Pandas Overview](https://pandas.pydata.org/docs/getting_started/index.html) -- When working with tabular data, such as data stored in spreadsheets or databases, pandas is the right tool for you. pandas will help you to explore, clean, and process your data. In pandas, a data table is called a DataFrame.\n",
    "\n",
    "\n",
    "![DataFrame](images/table_dataframe.png)"
   ]
  },
  {
   "cell_type": "code",
   "execution_count": 202,
   "metadata": {},
   "outputs": [],
   "source": [
    "'''Pandas is used to gather data sets through its DataFrames implementation'''\n",
    "import pandas as pd \n",
    "\n",
    "# importing pandas"
   ]
  },
  {
   "attachments": {},
   "cell_type": "markdown",
   "metadata": {},
   "source": [
    "# Notes From Lesson \n",
    "- Panda is a library in python that allows users to play with dataframe \n",
    "- You can use csv files as well as json files\n",
    "- you can display different data using functions found in pandas\n",
    "\n",
    "Examples:\n",
    "- df.mean() - finds the mean\n",
    "- df.median() - finds the median of the data\n",
    "- df.max() - finds the max \n",
    "- df.min() - finds the minimum\n",
    "\n",
    "you can also print out certain data only, like I did in my code below\n"
   ]
  },
  {
   "attachments": {},
   "cell_type": "markdown",
   "metadata": {},
   "source": [
    "# CPT project integration guide (personal w/chatgpt)\n",
    "\n",
    "- Read the CSV file using Pandas: Use the read_csv function in Pandas to read the CSV file and store it as a DataFrame.\n",
    "\n",
    "- Convert the DataFrame to JSON: Use the to_json function in Pandas to convert the DataFrame to JSON format. You can specify the orientation of the JSON file (records, index, columns, values) depending on your needs.\n",
    "\n",
    "- Create an HTML file: Create an HTML file and include a script tag to load the JSON data. You can use the script tag and set the src attribute to the path of the JSON file.\n",
    "\n",
    "- Load the JSON data in the HTML file: Use the fetch function in JavaScript to load the JSON data into the HTML file. You can use the fetch function to get the JSON data from the server and parse it using the json function.\n",
    "\n",
    "- Display the data in the HTML file: Once you have the JSON data, you can use JavaScript to display the data in the HT\n",
    "\n",
    "\n",
    "![Image](../images/jsonthing.png)\n",
    "\n"
   ]
  },
  {
   "attachments": {},
   "cell_type": "markdown",
   "metadata": {},
   "source": [
    "# NBA PLAYER Dataset\n",
    "> Here is a dataset that I found online, which displays the stats of nba players"
   ]
  },
  {
   "cell_type": "code",
   "execution_count": 259,
   "metadata": {},
   "outputs": [
    {
     "name": "stdout",
     "output_type": "stream",
     "text": [
      "--FG Top 10---------\n",
      "       Unnamed: 0      player_name team_abbreviation   age  player_height  \\\n",
      "4698         4698     Kevin Willis               DAL  44.0         213.36   \n",
      "270           270    Robert Parish               CHI  43.0         215.90   \n",
      "10818       10818     Vince Carter               ATL  43.0         198.12   \n",
      "5680         5680  Dikembe Mutombo               HOU  43.0         218.44   \n",
      "4892         4892  Dikembe Mutombo               HOU  42.0         218.44   \n",
      "12149       12149    Udonis Haslem               MIA  42.0         203.20   \n",
      "10240       10240     Vince Carter               ATL  42.0         198.12   \n",
      "3795         3795     Kevin Willis               ATL  42.0         213.36   \n",
      "1291         1291    Herb Williams               NYK  41.0         210.82   \n",
      "2818         2818    John Stockton               UTA  41.0         185.42   \n",
      "\n",
      "       player_weight         college country draft_year draft_round  ...  \\\n",
      "4698      111.130040  Michigan State     USA       1984           1  ...   \n",
      "270       110.676448  Centenary (LA)     USA       1976           1  ...   \n",
      "10818      99.790240  North Carolina     USA       1998           1  ...   \n",
      "5680      117.933920      Georgetown   Congo       1991           1  ...   \n",
      "4892      117.933920      Georgetown   Congo       1991           1  ...   \n",
      "12149     106.594120         Florida     USA  Undrafted   Undrafted  ...   \n",
      "10240      99.790240  North Carolina     USA       1998           1  ...   \n",
      "3795      111.130040  Michigan State     USA       1984           1  ...   \n",
      "1291      117.933920      Ohio State     USA       1981           1  ...   \n",
      "2818       79.378600         Gonzaga     USA       1984           1  ...   \n",
      "\n",
      "        pts  reb  ast  net_rating  oreb_pct  dreb_pct  usg_pct  ts_pct  \\\n",
      "4698    2.4  1.6  0.2        11.9     0.063     0.222    0.184   0.432   \n",
      "270     3.7  2.1  0.5        14.9     0.114     0.130    0.201   0.514   \n",
      "10818   5.0  2.1  0.8        -8.1     0.019     0.114    0.163   0.470   \n",
      "5680    1.8  3.7  0.0         1.8     0.152     0.241    0.111   0.472   \n",
      "4892    3.0  5.1  0.1         3.6     0.118     0.221    0.086   0.591   \n",
      "12149   2.5  1.9  0.3        -9.5     0.043     0.239    0.183   0.495   \n",
      "10240   7.4  2.6  1.1        -6.3     0.021     0.114    0.164   0.565   \n",
      "3795    3.0  2.6  0.3       -15.5     0.091     0.164    0.151   0.434   \n",
      "1291    1.7  1.0  0.0         0.9     0.088     0.103    0.138   0.563   \n",
      "2818   10.8  2.5  7.7         5.2     0.028     0.078    0.191   0.577   \n",
      "\n",
      "       ast_pct   season  \n",
      "4698     0.034  2006-07  \n",
      "270      0.082  1996-97  \n",
      "10818    0.081  2019-20  \n",
      "5680     0.000  2008-09  \n",
      "4892     0.012  2007-08  \n",
      "12149    0.077  2021-22  \n",
      "10240    0.097  2018-19  \n",
      "3795     0.043  2004-05  \n",
      "1291     0.000  1998-99  \n",
      "2818     0.445  2002-03  \n",
      "\n",
      "[10 rows x 22 columns]\n"
     ]
    }
   ],
   "source": [
    "import pandas as pd\n",
    "\n",
    "df = pd.read_csv('files/NBA.csv').sort_values(by=['age'], ascending=False)\n",
    "\n",
    "\n",
    "print(\"--FG Top 10---------\")\n",
    "print(df.head(10))\n",
    "\n",
    "# Ask the teacher the question. Df.head only works when using it in this cell block, but when I add df.tail, it doesnt show. I have to put it in a different cell block for it to show. \n",
    "\n"
   ]
  },
  {
   "cell_type": "code",
   "execution_count": 260,
   "metadata": {},
   "outputs": [
    {
     "name": "stdout",
     "output_type": "stream",
     "text": [
      "--bottom 10---------\n",
      "       Unnamed: 0      player_name team_abbreviation   age  player_height  \\\n",
      "8488         8488    Bruno Caboclo               TOR  19.0         205.74   \n",
      "8783         8783    Rashad Vaughn               MIL  19.0         198.12   \n",
      "12194       12194     Joshua Primo               SAS  19.0         193.04   \n",
      "4410         4410  Martell Webster               POR  19.0         200.66   \n",
      "9206         9206  Marquese Chriss               PHX  19.0         208.28   \n",
      "10523       10523    Kevin Knox II               NYK  19.0         205.74   \n",
      "11829       11829   Jaden Springer               PHI  19.0         193.04   \n",
      "342           342      Kobe Bryant               LAL  18.0         200.66   \n",
      "78             78  Jermaine O'Neal               POR  18.0         210.82   \n",
      "4138         4138     Andrew Bynum               LAL  18.0         213.36   \n",
      "\n",
      "       player_weight     college country draft_year draft_round  ...   pts  \\\n",
      "8488       92.986360        None  Brazil       2014           1  ...   1.3   \n",
      "8783       91.625584        UNLV     USA       2015           1  ...   3.1   \n",
      "12194      85.728888     Alabama  Canada       2021           1  ...   5.8   \n",
      "4410       95.254320        None     USA       2005           1  ...   6.6   \n",
      "9206      105.686936  Washington     USA       2016           1  ...   9.2   \n",
      "10523      97.522280    Kentucky     USA       2018           1  ...  12.8   \n",
      "11829      91.625584   Tennessee     USA       2021           1  ...   1.0   \n",
      "342        90.718400        None     USA       1996           1  ...   7.6   \n",
      "78        102.511792        None     USA       1996           1  ...   4.1   \n",
      "4138      124.737800        None     USA       2005           1  ...   1.6   \n",
      "\n",
      "       reb  ast  net_rating  oreb_pct  dreb_pct  usg_pct  ts_pct  ast_pct  \\\n",
      "8488   0.3  0.0       -60.3     0.048     0.050    0.315   0.417    0.000   \n",
      "8783   1.3  0.6        -6.8     0.012     0.086    0.133   0.398    0.055   \n",
      "12194  2.3  1.6        -3.3     0.031     0.079    0.152   0.487    0.111   \n",
      "4410   2.1  0.6       -14.6     0.029     0.120    0.183   0.533    0.055   \n",
      "9206   4.2  0.7       -10.8     0.058     0.164    0.196   0.529    0.051   \n",
      "10523  4.5  1.1       -13.6     0.025     0.120    0.219   0.475    0.060   \n",
      "11829  1.0  0.0       -72.4     0.143     0.125    0.118   1.000    0.000   \n",
      "342    1.9  1.3         2.2     0.048     0.084    0.244   0.544    0.144   \n",
      "78     2.8  0.2         1.3     0.099     0.198    0.199   0.494    0.030   \n",
      "4138   1.7  0.2        -4.0     0.110     0.154    0.152   0.394    0.044   \n",
      "\n",
      "        season  \n",
      "8488   2014-15  \n",
      "8783   2015-16  \n",
      "12194  2021-22  \n",
      "4410   2005-06  \n",
      "9206   2016-17  \n",
      "10523  2018-19  \n",
      "11829  2021-22  \n",
      "342    1996-97  \n",
      "78     1996-97  \n",
      "4138   2005-06  \n",
      "\n",
      "[10 rows x 22 columns]\n"
     ]
    }
   ],
   "source": [
    "import pandas as pd\n",
    "\n",
    "df = pd.read_csv('files/NBA.csv').sort_values(by=['age'], ascending=False)\n",
    "\n",
    "\n",
    "print(\"--bottom 10---------\")\n",
    "print(df.tail(10))"
   ]
  },
  {
   "cell_type": "code",
   "execution_count": 266,
   "metadata": {},
   "outputs": [
    {
     "name": "stdout",
     "output_type": "stream",
     "text": [
      "------Here are the players with the highest average points------\n",
      "       Unnamed: 0   player_name team_abbreviation   age  player_height  \\\n",
      "10572       10572  James Harden               HOU  29.0         195.58   \n",
      "\n",
      "       player_weight        college country draft_year draft_round  ...   pts  \\\n",
      "10572       99.79024  Arizona State     USA       2009           1  ...  36.1   \n",
      "\n",
      "       reb  ast  net_rating  oreb_pct  dreb_pct  usg_pct  ts_pct  ast_pct  \\\n",
      "10572  6.6  7.5         6.3     0.023     0.157    0.396   0.616    0.394   \n",
      "\n",
      "        season  \n",
      "10572  2018-19  \n",
      "\n",
      "[1 rows x 22 columns]\n",
      "\n",
      "------Here are the players with the lowest average points------\n",
      "       Unnamed: 0               player_name team_abbreviation   age  \\\n",
      "3111         3111            Olden Polynice               LAC  39.0   \n",
      "2676         2676              Chris Dudley               POR  38.0   \n",
      "2090         2090             Muggsy Bogues               TOR  36.0   \n",
      "6721         6721             Brian Skinner               MEM  36.0   \n",
      "6279         6279             Brian Skinner               MIL  35.0   \n",
      "...           ...                       ...               ...   ...   \n",
      "3263         3263             Slavko Vranes               POR  21.0   \n",
      "11578       11578             Ashton Hagans               MIN  21.0   \n",
      "2795         2795             Jamal Sampson               MIL  20.0   \n",
      "10310       10310              Ike Anigbogu               IND  20.0   \n",
      "4411         4411  Martynas Andriuskevicius               CLE  20.0   \n",
      "\n",
      "       player_height  player_weight      college    country draft_year  \\\n",
      "3111          208.28     113.398000     Virginia        USA       1987   \n",
      "2676          210.82     117.933920         Yale        USA       1987   \n",
      "2090          160.02      61.688512  Wake Forest        USA       1987   \n",
      "6721          205.74     115.665960       Baylor        USA       1998   \n",
      "6279          205.74     115.665960       Baylor        USA       1998   \n",
      "...              ...            ...          ...        ...        ...   \n",
      "3263          226.06     124.737800         None        USA       2003   \n",
      "11578         190.50      86.182480     Kentucky        USA  Undrafted   \n",
      "2795          210.82     106.594120   California        USA       2002   \n",
      "10310         208.28     113.398000         UCLA        USA       2017   \n",
      "4411          218.44     108.862080         None  Lithuania       2005   \n",
      "\n",
      "      draft_round  ...  pts  reb  ast  net_rating  oreb_pct  dreb_pct  \\\n",
      "3111            1  ...  0.0  1.0  0.5         1.8     0.111     0.100   \n",
      "2676            4  ...  0.0  0.7  0.0       -65.5     0.167     0.000   \n",
      "2090            1  ...  0.0  1.0  1.7       -27.4     0.000     0.120   \n",
      "6721            1  ...  0.0  0.0  0.0       -88.4     0.000     0.000   \n",
      "6279            1  ...  0.0  0.0  0.0       -95.6     0.000     0.000   \n",
      "...           ...  ...  ...  ...  ...         ...       ...       ...   \n",
      "3263            2  ...  0.0  0.0  0.0       -10.0     0.000     0.000   \n",
      "11578   Undrafted  ...  0.0  0.0  0.0       -21.8     0.000     0.000   \n",
      "2795            2  ...  0.0  0.4  0.2        12.3     0.125     0.125   \n",
      "10310           2  ...  0.0  1.0  0.3       -14.3     0.143     0.250   \n",
      "4411            2  ...  0.0  0.7  0.0        37.1     0.125     0.375   \n",
      "\n",
      "       usg_pct  ts_pct  ast_pct   season  \n",
      "3111     0.172     0.0    0.143  2003-04  \n",
      "2676     0.045     0.0    0.000  2002-03  \n",
      "2090     0.078     0.0    0.294  2000-01  \n",
      "6721     0.100     0.0    0.000  2011-12  \n",
      "6279     0.000     0.0    0.000  2010-11  \n",
      "...        ...     ...      ...      ...  \n",
      "3263     0.145     0.0    0.000  2003-04  \n",
      "11578    0.083     0.0    0.000  2020-21  \n",
      "2795     0.118     0.0    0.333  2002-03  \n",
      "10310    0.267     0.0    0.200  2018-19  \n",
      "4411     0.042     0.0    0.000  2005-06  \n",
      "\n",
      "[156 rows x 22 columns]\n",
      "\n"
     ]
    }
   ],
   "source": [
    "print(\"------Here are the players with the highest average points------\")\n",
    "print(df[df.pts == df.pts.max()])\n",
    "print()\n",
    "\n",
    "\n",
    "\n",
    "print(\"------Here are the players with the lowest average points------\")\n",
    "print(df[df.pts == df.pts.min()])\n",
    "print()\n",
    "\n",
    "\n"
   ]
  },
  {
   "cell_type": "code",
   "execution_count": 273,
   "metadata": {},
   "outputs": [
    {
     "name": "stdout",
     "output_type": "stream",
     "text": [
      "Average overall stats of the typical player in the NBA\n"
     ]
    },
    {
     "name": "stderr",
     "output_type": "stream",
     "text": [
      "/var/folders/t5/fkg7hq2x4ml17j36_f8wxr000000gn/T/ipykernel_24989/962595910.py:3: FutureWarning: Dropping of nuisance columns in DataFrame reductions (with 'numeric_only=None') is deprecated; in a future version this will raise TypeError.  Select only valid columns before calling the reduction.\n",
      "  df.mean()\n"
     ]
    },
    {
     "data": {
      "text/plain": [
       "Unnamed: 0       6152.000000\n",
       "age                27.084518\n",
       "player_height     200.611602\n",
       "player_weight     100.369926\n",
       "gp                 51.290532\n",
       "pts                 8.172775\n",
       "reb                 3.559155\n",
       "ast                 1.813986\n",
       "net_rating         -2.255733\n",
       "oreb_pct            0.054473\n",
       "dreb_pct            0.141014\n",
       "usg_pct             0.184891\n",
       "ts_pct              0.511060\n",
       "ast_pct             0.131358\n",
       "dtype: float64"
      ]
     },
     "execution_count": 273,
     "metadata": {},
     "output_type": "execute_result"
    }
   ],
   "source": [
    "print(\"Average overall stats of the typical player in the NBA\")\n",
    "\n",
    "df.mean()\n",
    "\n"
   ]
  },
  {
   "cell_type": "code",
   "execution_count": 275,
   "metadata": {},
   "outputs": [
    {
     "name": "stdout",
     "output_type": "stream",
     "text": [
      "------Here are the players with their average number of points over 20------\n",
      "       Unnamed: 0      player_name team_abbreviation   age  player_height  \\\n",
      "2995         2995      Karl Malone               UTA  39.0         205.74   \n",
      "2199         2199   Michael Jordan               WAS  39.0         198.12   \n",
      "2276         2276      Karl Malone               UTA  38.0         205.74   \n",
      "2079         2079      Karl Malone               UTA  37.0         205.74   \n",
      "12175       12175     LeBron James               LAL  37.0         205.74   \n",
      "...           ...              ...               ...   ...            ...   \n",
      "11365       11365  Zion Williamson               NOP  20.0         200.66   \n",
      "10451       10451      Luka Doncic               DAL  20.0         200.66   \n",
      "3120         3120     LeBron James               CLE  19.0         203.20   \n",
      "10799       10799  Zion Williamson               NOP  19.0         198.12   \n",
      "5208         5208     Kevin Durant               SEA  19.0         205.74   \n",
      "\n",
      "       player_weight         college   country draft_year draft_round  ...  \\\n",
      "2995      116.119552  Louisiana Tech       USA       1985           1  ...   \n",
      "2199       97.975872  North Carolina       USA       1984           1  ...   \n",
      "2276      116.119552  Louisiana Tech       USA       1985           1  ...   \n",
      "2079      116.119552  Louisiana Tech       USA       1985           1  ...   \n",
      "12175     113.398000            None       USA       2003           1  ...   \n",
      "...              ...             ...       ...        ...         ...  ...   \n",
      "11365     128.820128            Duke       USA       2019           1  ...   \n",
      "10451      98.883056            None  Slovenia       2018           1  ...   \n",
      "3120      108.862080            None       USA       2003           1  ...   \n",
      "10799     128.820128            Duke       USA       2019           1  ...   \n",
      "5208       97.522280           Texas       USA       2007           1  ...   \n",
      "\n",
      "        pts  reb  ast  net_rating  oreb_pct  dreb_pct  usg_pct  ts_pct  \\\n",
      "2995   20.6  7.8  4.7         3.0     0.049     0.203    0.276   0.534   \n",
      "2199   22.9  5.7  5.2        -0.3     0.027     0.163    0.361   0.468   \n",
      "2276   22.4  8.6  4.3         0.8     0.057     0.218    0.288   0.532   \n",
      "2079   23.2  8.3  4.5         5.8     0.050     0.236    0.299   0.572   \n",
      "12175  30.3  8.2  6.2        -2.5     0.031     0.185    0.317   0.619   \n",
      "...     ...  ...  ...         ...       ...       ...      ...     ...   \n",
      "11365  27.0  7.2  3.7         2.1     0.081     0.131    0.287   0.649   \n",
      "10451  21.2  7.8  6.0        -3.1     0.036     0.198    0.296   0.545   \n",
      "3120   20.9  5.5  5.9        -2.6     0.035     0.117    0.280   0.488   \n",
      "10799  22.5  6.3  2.1         5.1     0.092     0.114    0.291   0.616   \n",
      "5208   20.3  4.4  2.4       -11.7     0.027     0.111    0.278   0.519   \n",
      "\n",
      "       ast_pct   season  \n",
      "2995     0.236  2002-03  \n",
      "2199     0.295  2001-02  \n",
      "2276     0.216  2001-02  \n",
      "2079     0.234  2000-01  \n",
      "12175    0.297  2021-22  \n",
      "...        ...      ...  \n",
      "11365    0.188  2020-21  \n",
      "10451    0.317  2018-19  \n",
      "3120     0.268  2003-04  \n",
      "10799    0.119  2019-20  \n",
      "5208     0.120  2007-08  \n",
      "\n",
      "[646 rows x 22 columns]\n"
     ]
    }
   ],
   "source": [
    "print(\"------Here are the players with their average number of points over 20------\")\n",
    "\n",
    "print(df[df.pts > 20.00])\n"
   ]
  },
  {
   "cell_type": "code",
   "execution_count": 277,
   "metadata": {},
   "outputs": [
    {
     "name": "stdout",
     "output_type": "stream",
     "text": [
      "------These are the median stats by the players in the NBA ------\n"
     ]
    },
    {
     "name": "stderr",
     "output_type": "stream",
     "text": [
      "/var/folders/t5/fkg7hq2x4ml17j36_f8wxr000000gn/T/ipykernel_24989/1381966225.py:2: FutureWarning: Dropping of nuisance columns in DataFrame reductions (with 'numeric_only=None') is deprecated; in a future version this will raise TypeError.  Select only valid columns before calling the reduction.\n",
      "  df.median()\n"
     ]
    },
    {
     "data": {
      "text/plain": [
       "Unnamed: 0       6152.00000\n",
       "age                26.00000\n",
       "player_height     200.66000\n",
       "player_weight      99.79024\n",
       "gp                 57.00000\n",
       "pts                 6.70000\n",
       "reb                 3.00000\n",
       "ast                 1.20000\n",
       "net_rating         -1.30000\n",
       "oreb_pct            0.04100\n",
       "dreb_pct            0.13100\n",
       "usg_pct             0.18100\n",
       "ts_pct              0.52400\n",
       "ast_pct             0.10300\n",
       "dtype: float64"
      ]
     },
     "execution_count": 277,
     "metadata": {},
     "output_type": "execute_result"
    }
   ],
   "source": [
    "print(\"------These are the median stats by the players in the NBA ------\")\n",
    "df.median()\n",
    "\n"
   ]
  }
 ],
 "metadata": {
  "kernelspec": {
   "display_name": "base",
   "language": "python",
   "name": "python3"
  },
  "language_info": {
   "codemirror_mode": {
    "name": "ipython",
    "version": 3
   },
   "file_extension": ".py",
   "mimetype": "text/x-python",
   "name": "python",
   "nbconvert_exporter": "python",
   "pygments_lexer": "ipython3",
   "version": "3.9.12"
  },
  "orig_nbformat": 4,
  "vscode": {
   "interpreter": {
    "hash": "65f6bdf080211a4261ca30203f2967d5d410cd9d47d7b7e5694003092334a949"
   }
  }
 },
 "nbformat": 4,
 "nbformat_minor": 2
}

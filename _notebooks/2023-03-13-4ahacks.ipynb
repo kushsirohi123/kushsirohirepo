{
 "cells": [
  {
   "attachments": {},
   "cell_type": "markdown",
   "metadata": {},
   "source": [
    "#  Unit 2.4a hacks\n",
    "> Using Programs with Data is focused on SQL and database actions.  Part A focuses on SQLAlchemy and an OOP programming style,\n",
    "- toc: true\n",
    "- image: /images/python.png\n",
    "- categories: []\n",
    "- type: ap\n",
    "- week: 26"
   ]
  },
  {
   "cell_type": "code",
   "execution_count": 170,
   "metadata": {},
   "outputs": [],
   "source": [
    "\"\"\"\n",
    "These imports define the key objects\n",
    "\"\"\"\n",
    "\n",
    "from flask import Flask\n",
    "from flask_sqlalchemy import SQLAlchemy\n",
    "\n",
    "\"\"\"\n",
    "These object and definitions are used throughout the Jupyter Notebook.\n",
    "\"\"\"\n",
    "\n",
    "# Setup of key Flask object (app)\n",
    "app = Flask(__name__)\n",
    "# Setup SQLAlchemy object and properties for the database (db)\n",
    "database = 'sqlite:///sqlite.db'  # path and filename of database\n",
    "app.config['SQLALCHEMY_TRACK_MODIFICATIONS'] = False\n",
    "app.config['SQLALCHEMY_DATABASE_URI'] = database\n",
    "app.config['SECRET_KEY'] = 'SECRET_KEY'\n",
    "db = SQLAlchemy()\n",
    "\n",
    "\n",
    "# This belongs in place where it runs once per project\n",
    "db.init_app(app)"
   ]
  },
  {
   "cell_type": "code",
   "execution_count": 171,
   "metadata": {},
   "outputs": [],
   "source": [
    "\"\"\" database dependencies to support sqlite examples \"\"\"\n",
    "import datetime\n",
    "from datetime import datetime\n",
    "import json\n",
    "\n",
    "from sqlalchemy.exc import IntegrityError\n",
    "from werkzeug.security import generate_password_hash, check_password_hash\n",
    "\n",
    "\n",
    "''' Tutorial: https://www.sqlalchemy.org/library.html#tutorials, try to get into a Python shell and follow along '''\n",
    "\n",
    "# Define the User class to manage actions in the 'users' table\n",
    "# -- Object Relational Mapping (ORM) is the key concept of SQLAlchemy\n",
    "# -- a.) db.Model is like an inner layer of the onion in ORM\n",
    "# -- b.) User represents data we want to store, something that is built on db.Model\n",
    "# -- c.) SQLAlchemy ORM is layer on top of SQLAlchemy Core, then SQLAlchemy engine, SQL\n",
    "class User(db.Model):\n",
    "    __tablename__ = 'ice'  # table name is plural, class name is singular\n",
    "\n",
    "    # Define the User schema with \"vars\" from object\n",
    "    id = db.Column(db.Integer, primary_key=True)\n",
    "    _appName = db.Column(db.String(255), unique=False, nullable=False)\n",
    "    _personalUse = db.Column(db.String(255), unique=True, nullable=False)\n",
    "    _password = db.Column(db.String(255), unique=False, nullable=False)\n",
    "    _favoriteFeature = db.Column(db.String(255), unique=False, nullable=False)\n",
    "    _uid = db.Column(db.String(255), unique=True, nullable=False)\n",
    "\n",
    "\n",
    "    # constructor of a User object, initializes the instance variables within object (self)\n",
    "    def __init__(self, favoriteFeature, appName, personalUse, uid, password=\"123qwerty\"):\n",
    "        self._favoriteFeature = favoriteFeature\n",
    "        self._appName = appName    # variables with self prefix become part of the object, \n",
    "        self._personalUse = personalUse\n",
    "        self._uid = uid\n",
    "        self.set_password(password)\n",
    "\n",
    "#_____________________________________________________________________________________________\n",
    "\n",
    "# a name getter method, extracts name from object\n",
    "    @property\n",
    "    def appName(self):\n",
    "        return self._appName\n",
    "    \n",
    "    # a setter function, allows name to be updated after initial object creation\n",
    "    @appName.setter\n",
    "    def name(self, appName):\n",
    "        self._appName = appName\n",
    "#_____________________________________________________________________________________________\n",
    "\n",
    "\n",
    "# a name getter method, extracts name from object\n",
    "    @property\n",
    "    def personalUse(self):\n",
    "        return self._personalUse\n",
    "    \n",
    "    # a setter function, allows name to be updated after initial object creation\n",
    "    @personalUse.setter\n",
    "    def name(self, personalUse):\n",
    "        self._appName = personalUse\n",
    "#_____________________________________________________________________________________________\n",
    "\n",
    "    # a getter method, extracts uid from object\n",
    "    @property\n",
    "    def uid(self):\n",
    "        return self._uid\n",
    "    \n",
    "    # a setter function, allows uid to be updated after initial object creation\n",
    "    @uid.setter\n",
    "    def uid(self, uid):\n",
    "        self._uid = uid\n",
    "\n",
    "    # check if uid parameter matches user id in object, return boolean\n",
    "    def is_uid(self, uid):\n",
    "        return self._uid == uid\n",
    "    \n",
    "    \n",
    "    #_____________________________________________________________________________________________\n",
    "\n",
    "    @property\n",
    "    def password(self):\n",
    "        return self._password[0:10] + \"...\" # because of security only show 1st characters\n",
    "\n",
    "    # update password, this is conventional method used for setter\n",
    "    def set_password(self, password):\n",
    "        \"\"\"Create a hashed password.\"\"\"\n",
    "        self._password = generate_password_hash(password, method='sha256')\n",
    "\n",
    "    # check password parameter against stored/encrypted password\n",
    "    def is_password(self, password):\n",
    "        \"\"\"Check against hashed password.\"\"\"\n",
    "        result = check_password_hash(self._password, password)\n",
    "        return result\n",
    "   #_____________________________________________________________________________________________\n",
    "\n",
    "# a name getter method, extracts name from object\n",
    "    @property\n",
    "    def favoriteFeature(self):\n",
    "        return self._favoriteFeature\n",
    "    \n",
    "    # a setter function, allows name to be updated after initial object creation\n",
    "    @favoriteFeature.setter\n",
    "    def name(self, favoriteFeature):\n",
    "        self._favoriteFeature = favoriteFeature\n",
    "#_____________________________________________________________________________________________\n",
    "\n",
    "\n",
    "    # output content using str(object) is in human readable form\n",
    "    # output content using json dumps, this is ready for API response\n",
    "    def __str__(self):\n",
    "        return json.dumps(self.read())\n",
    "\n",
    "    # CRUD create/add a new record to the table\n",
    "    # returns self or None on error\n",
    "    def create(self):\n",
    "        try:\n",
    "            # creates a person object from User(db.Model) class, passes initializers\n",
    "            db.session.add(self)  # add prepares to persist person object to Users table\n",
    "            db.session.commit()  # SqlAlchemy \"unit of work pattern\" requires a manual commit\n",
    "            return self\n",
    "        except IntegrityError:\n",
    "            db.session.remove()\n",
    "            return None\n",
    "\n",
    "    # CRUD read converts self to dictionary\n",
    "    # returns dictionary\n",
    "    def read(self):\n",
    "        return {\n",
    "            \"appName\": self.appName,\n",
    "            \"personalUse\": self.personalUse,\n",
    "            \"password\": self.password,\n",
    "            \"favoriteFeature\": self.favoriteFeature,\n",
    "            \"uid\": self.uid,\n",
    "        }\n",
    "\n",
    "    # CRUD update: updates user name, password, phone\n",
    "    # returns self\n",
    "    def update(self, appName = \"\", personalUse = \"\", favoriteFeature=\"\",password=\"\", uid=\"\"):\n",
    "        \"\"\"only updates values with length\"\"\"\n",
    "        if len(appName) > 0:\n",
    "            self.appName = appName\n",
    "        if len(personalUse) > 0:\n",
    "            self.personalUse = personalUse\n",
    "        if len(favoriteFeature) > 0:\n",
    "            self.favoriteFeature = favoriteFeature\n",
    "        if len(password) > 0:\n",
    "            self.set_password(password)\n",
    "        if len(uid) > 0:\n",
    "            self.uid = uid        \n",
    "        db.session.add(self) # performs update when id exists\n",
    "        return self\n",
    "\n",
    "    # CRUD delete: remove self\n",
    "    # None\n",
    "    def delete(self):\n",
    "        db.session.delete(self)\n",
    "        db.session.commit()\n",
    "        return None"
   ]
  },
  {
   "cell_type": "code",
   "execution_count": 172,
   "metadata": {},
   "outputs": [],
   "source": [
    "# Creating my own database "
   ]
  },
  {
   "cell_type": "code",
   "execution_count": 173,
   "metadata": {},
   "outputs": [
    {
     "name": "stdout",
     "output_type": "stream",
     "text": [
      "Records exist uid netflix, or error.\n"
     ]
    }
   ],
   "source": [
    "\n",
    "\n",
    "# Builds working data for testing\n",
    "def initUsers():\n",
    "    with app.app_context():\n",
    "        \"\"\"Create database and tables\"\"\"\n",
    "        db.create_all()\n",
    "        \"\"\"Tester data for table\"\"\"\n",
    "        u1 = User(appName='Netflix', personalUse='Watch Movies',favoriteFeature = \"watching Movies\", uid='netflix', password='netflix123')\n",
    "\n",
    "\n",
    "        users = [u1]\n",
    "\n",
    "        \"\"\"Builds sample user/note(s) data\"\"\"\n",
    "        for user in users:\n",
    "            try:\n",
    "                '''add user to table'''\n",
    "                object = user.create()\n",
    "                print(f\"Created new uid {object.uid}\")\n",
    "            except:  # error raised if object nit created\n",
    "                '''fails with bad or duplicate data'''\n",
    "                print(f\"Records exist uid {user.uid}, or error.\")\n",
    "                \n",
    "initUsers()"
   ]
  },
  {
   "cell_type": "code",
   "execution_count": 174,
   "metadata": {},
   "outputs": [],
   "source": [
    "def find_by_uid(uid):\n",
    "    with app.app_context():\n",
    "        user = User.query.filter_by(_uid=uid).first()\n",
    "    return user # returns user object\n",
    "\n",
    "# Check credentials by finding user and verify password\n",
    "def check_credentials(uid, password):\n",
    "    # query email and return user record\n",
    "    user = find_by_uid(uid)\n",
    "    if user == None:\n",
    "        return False\n",
    "    if (user.is_password(password)):\n",
    "        return True\n",
    "    return False"
   ]
  },
  {
   "cell_type": "code",
   "execution_count": 175,
   "metadata": {},
   "outputs": [
    {
     "name": "stdout",
     "output_type": "stream",
     "text": [
      "Created\n",
      " {'appName': '', 'personalUse': '', 'password': 'sha256$eQb...', 'favoriteFeature': '', 'uid': ''}\n"
     ]
    }
   ],
   "source": [
    "def create():\n",
    "    # optimize user time to see if uid exists\n",
    "    uid = input(\"Enter your user id:\")\n",
    "    user = find_by_uid(uid)\n",
    "    try:\n",
    "        print(\"Found\\n\", user.read())\n",
    "        return\n",
    "    except:\n",
    "        pass # keep going\n",
    "    \n",
    "    # request value that ensure creating valid object\n",
    "    appName = input(\"Enter appName: \")\n",
    "    personalUse = input(\"personalUse: \")\n",
    "    favoriteFeature = input(\"favoriteFeature: \")\n",
    "    password = input(\"password: \")\n",
    "    uid = input(\"uid: \")\n",
    "\n",
    "       \n",
    "    # Initialize User object before date\n",
    "    user = User(\n",
    "        appName = appName,\n",
    "        personalUse = personalUse,\n",
    "        favoriteFeature = favoriteFeature,\n",
    "        password = password,\n",
    "        uid = uid\n",
    "                )\n",
    "    \n",
    "    # write object to database\n",
    "    with app.app_context():\n",
    "        try:\n",
    "            object = user.create()\n",
    "            print(\"Created\\n\", object.read())\n",
    "        except:  # error raised if object not created\n",
    "            print(\"Unknown error uid {uid}\")\n",
    "        \n",
    "create()\n"
   ]
  },
  {
   "cell_type": "code",
   "execution_count": 176,
   "metadata": {},
   "outputs": [
    {
     "data": {
      "text/plain": [
       "[{'appName': 'Netflix',\n",
       "  'personalUse': 'Watching movies',\n",
       "  'password': 'sha256$RI8...',\n",
       "  'favoriteFeature': 'the recommendation feature',\n",
       "  'uid': 'netflix'},\n",
       " {'appName': 'frwf',\n",
       "  'personalUse': 'wf',\n",
       "  'password': 'wf...',\n",
       "  'favoriteFeature': 'wf',\n",
       "  'uid': 'wfe'},\n",
       " {'appName': 'robinhood',\n",
       "  'personalUse': 'trading stocks',\n",
       "  'password': 'sha256$MHv...',\n",
       "  'favoriteFeature': 'trading stocks',\n",
       "  'uid': 'robinhood'},\n",
       " {'appName': 'clash of clans',\n",
       "  'personalUse': 'playing videogames',\n",
       "  'password': 'sha256$n1z...',\n",
       "  'favoriteFeature': 'the color scheme',\n",
       "  'uid': 'clash of clans'},\n",
       " {'appName': '',\n",
       "  'personalUse': '',\n",
       "  'password': 'sha256$eQb...',\n",
       "  'favoriteFeature': '',\n",
       "  'uid': ''}]"
      ]
     },
     "execution_count": 176,
     "metadata": {},
     "output_type": "execute_result"
    }
   ],
   "source": [
    "def read():\n",
    "    with app.app_context():\n",
    "        table = User.query.all()\n",
    "    json_ready = [kush.read() for kush in table] # \"List Comprehensions\", for each user add user.read() to list\n",
    "    return json_ready\n",
    "\n",
    "read()\n"
   ]
  },
  {
   "attachments": {},
   "cell_type": "markdown",
   "metadata": {},
   "source": [
    "# delete functionality"
   ]
  },
  {
   "cell_type": "code",
   "execution_count": 177,
   "metadata": {},
   "outputs": [
    {
     "name": "stdout",
     "output_type": "stream",
     "text": [
      " has been deleted. \n",
      "[{'appName': 'Netflix', 'personalUse': 'Watching movies', 'password': 'sha256$RI8...', 'favoriteFeature': 'the recommendation feature', 'uid': 'netflix'}, {'appName': 'frwf', 'personalUse': 'wf', 'password': 'wf...', 'favoriteFeature': 'wf', 'uid': 'wfe'}, {'appName': 'robinhood', 'personalUse': 'trading stocks', 'password': 'sha256$MHv...', 'favoriteFeature': 'trading stocks', 'uid': 'robinhood'}, {'appName': 'clash of clans', 'personalUse': 'playing videogames', 'password': 'sha256$n1z...', 'favoriteFeature': 'the color scheme', 'uid': 'clash of clans'}]\n"
     ]
    }
   ],
   "source": [
    "def delete(): \n",
    "    uid = input(\"Enter uid of user that you want to delete: \")\n",
    "    user = find_by_uid(uid)  \n",
    "    with app.app_context():\n",
    "        try:\n",
    "            object = user.delete() \n",
    "            print(f\"{uid} has been deleted. \")\n",
    "            print(read())\n",
    "        except:  \n",
    "           (f\"{uid} was not found.\")\n",
    "        \n",
    "delete()"
   ]
  },
  {
   "attachments": {},
   "cell_type": "markdown",
   "metadata": {},
   "source": [
    "# Update Functionality"
   ]
  },
  {
   "cell_type": "code",
   "execution_count": 178,
   "metadata": {},
   "outputs": [
    {
     "name": "stdout",
     "output_type": "stream",
     "text": [
      "User has been updated\n"
     ]
    }
   ],
   "source": [
    "def Updatey():\n",
    "\n",
    "    uid = str(input(\"Type the uid of the user you want to change\"))\n",
    "    with app.app_context():\n",
    "        user = User.query.filter_by(_uid =uid ).first()    \n",
    "        \n",
    "    \n",
    "    with app.app_context():\n",
    "        appName = str(input(\"New name?\"))\n",
    "        uid = str(input(\"New uid?\"))\n",
    "        password = str(input(\"New password?\"))\n",
    "        personalUse = str(input(\"new personal use?\"))\n",
    "        favoriteFeature = str(input(\"New Favorite feature?\"))\n",
    "        user._appName = appName\n",
    "        user._uid = uid\n",
    "        user._password = password\n",
    "        user._personalUse = personalUse\n",
    "        user._favoriteFeature = favoriteFeature\n",
    "        x = user.update()\n",
    "        db.session.commit()   \n",
    "    \n",
    "    print(\"User has been updated\" )\n",
    "        \n",
    "Updatey()\n",
    "\n",
    "\n"
   ]
  },
  {
   "cell_type": "code",
   "execution_count": 179,
   "metadata": {},
   "outputs": [
    {
     "name": "stdout",
     "output_type": "stream",
     "text": [
      "[{'appName': 'Netflix', 'personalUse': 'Watching movies', 'password': 'sha256$RI8...', 'favoriteFeature': 'the recommendation feature', 'uid': 'netflix'}, {'appName': 'google', 'personalUse': 'looking up things', 'password': 'google...', 'favoriteFeature': 'looking up things', 'uid': 'google'}, {'appName': 'robinhood', 'personalUse': 'trading stocks', 'password': 'sha256$MHv...', 'favoriteFeature': 'trading stocks', 'uid': 'robinhood'}, {'appName': 'clash of clans', 'personalUse': 'playing videogames', 'password': 'sha256$n1z...', 'favoriteFeature': 'the color scheme', 'uid': 'clash of clans'}]\n"
     ]
    }
   ],
   "source": [
    "print(read())"
   ]
  }
 ],
 "metadata": {
  "kernelspec": {
   "display_name": "base",
   "language": "python",
   "name": "python3"
  },
  "language_info": {
   "codemirror_mode": {
    "name": "ipython",
    "version": 3
   },
   "file_extension": ".py",
   "mimetype": "text/x-python",
   "name": "python",
   "nbconvert_exporter": "python",
   "pygments_lexer": "ipython3",
   "version": "3.9.12"
  },
  "orig_nbformat": 4
 },
 "nbformat": 4,
 "nbformat_minor": 2
}

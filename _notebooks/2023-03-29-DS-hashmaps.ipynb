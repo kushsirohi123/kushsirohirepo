{
 "cells": [
  {
   "attachments": {},
   "cell_type": "markdown",
   "metadata": {},
   "source": [
    "#  Data Structures- Hashmaps, Sets, Hash Tables, Hashing and Collisions\n",
    "> Observing hashmaps with python dictionaries\n",
    "- toc: true\n",
    "- image: /images/python.png\n",
    "- categories: []\n",
    "- type: pbl\n",
    "- week: 28"
   ]
  },
  {
   "attachments": {},
   "cell_type": "markdown",
   "metadata": {},
   "source": [
    "## What is a Hashtable/Hashmap?\n",
    "\n",
    "> A hashtable is a data structure that with a collection of key-value pairs, where each key maps to a value, and the keys must be unique and hashable.\n",
    "\n",
    "- In Python there is a built in hashtable known as a Dictionary.\n",
    "\n",
    "> The primary purpose of a hashtable is to provide efficient lookup, insertion, and deletion operations. When an element is to be inserted into the hashtable, a hash function is used to map the key to a specific index in the underlying array that is used to store the key-value pairs. The value is then stored at that index. When searching for a value, the hash function is used again to find the index where the value is stored.\n",
    "\n",
    "> The key advantage of a hashtable over other data structures like arrays and linked lists is its average-case time complexity for lookup, insertion, and deletion operations.\n",
    "\n",
    "- The typical time complexity of a hashtable is O(1). \n"
   ]
  },
  {
   "cell_type": "code",
   "execution_count": null,
   "metadata": {},
   "outputs": [],
   "source": []
  },
  {
   "attachments": {},
   "cell_type": "markdown",
   "metadata": {},
   "source": [
    "## What is Hashing and Collision?\n",
    "\n",
    "> Hashing is the process of mapping a given key to a value in a hash table or hashmap, using a hash function. The hash function takes the key as input and produces a hash value or hash code, which is then used to determine the index in the underlying array where the value is stored. The purpose of hashing is to provide a quick and efficient way to access data, by eliminating the need to search through an entire data structure to find a value.\n",
    "\n",
    "> However, it is possible for two different keys to map to the same hash value, resulting in a collision. When a collision occurs, there are different ways to resolve it, depending on the collision resolution strategy used.\n",
    "\n",
    "> Python's dictionary implementation is optimized to handle collisions efficiently, and the performance of the dictionary is generally very good, even in the presence of collisions. However, if the number of collisions is very high, the performance of the dictionary can degrade, so it is important to choose a good hash function that minimizes collisions when designing a Python dictionary.\n",
    "\n",
    "## What is a Set?"
   ]
  },
  {
   "cell_type": "code",
   "execution_count": 9,
   "metadata": {},
   "outputs": [
    {
     "name": "stdout",
     "output_type": "stream",
     "text": [
      "{1, 2, 3}\n"
     ]
    }
   ],
   "source": [
    "# Creating a set using set() function\n",
    "my_set = set([1, 2, 3, 2, 1])\n",
    "print(my_set)  \n",
    "\n",
    "# What do you notice in the output?\n",
    "# I notice that it did not print the repeating values\n",
    "#\n",
    "\n",
    "# Why do you think Sets are in the same tech talk as Hashmaps/Hashtables?\n",
    "#\n",
    "#"
   ]
  },
  {
   "attachments": {},
   "cell_type": "markdown",
   "metadata": {},
   "source": [
    "## Dictionary Example\n",
    "\n",
    "Below are just some basic features of a dictionary. As always, documentation is always the main source for all the full capablilties. "
   ]
  },
  {
   "cell_type": "code",
   "execution_count": 10,
   "metadata": {},
   "outputs": [
    {
     "name": "stdout",
     "output_type": "stream",
     "text": [
      "{'title': '', 'artist': 'Drake', 'year': 2017, 'genre': ['rap', 'rnb'], 'tracks': {1: 'Free Smoke', 2: 'No Long Talk', 3.0: 'Passionfruit', 4: 'Jorja Interlude', 5: 'Get It Together', 6: 'Madiba Riddim', 7: 'Blem', 8: '4422', 9.0: 'Gyalchester', 10: 'Skepta Interlude', 11: 'Portland', 12: 'Sacrifices\\u200b', 13: 'Nothings Into Somethings', 14: 'Teenage Fever', 15: 'KMT', 16: 'Lose You', 17: \"Can't Have Everything\", 18: 'Glow', 19: 'Since Way Back', 20: 'Fake Love', 21: 'Ice Melts', 22: 'Do Not Disturb'}}\n"
     ]
    }
   ],
   "source": [
    "# Creating a dictionary with information about the album \"Lover\"\n",
    "lover_album = {\n",
    "    \"title\": \"\",\n",
    "    \"artist\": \"Drake\",\n",
    "    \"year\": 2017,\n",
    "    \"genre\": [\"rap\", \"rnb\"],\n",
    "    \"tracks\": {\n",
    "        1 :\"Free Smoke\",\n",
    "        2 :\"No Long Talk\" ,\n",
    "        3. :\"Passionfruit\",\n",
    "        4 :\"Jorja Interlude\",\n",
    "        5 :\"Get It Together\" ,\n",
    "        6 :\"Madiba Riddim\",\n",
    "        7 :\"Blem\",\n",
    "        8 :\"4422\" ,\n",
    "        9. :\"Gyalchester\",\n",
    "        10: \"Skepta Interlude\",\n",
    "        11 :\"Portland\" ,\n",
    "        12: \"Sacrifices​\" ,\n",
    "        13 :\"Nothings Into Somethings\",\n",
    "        14: \"Teenage Fever\",\n",
    "        15 :\"KMT\",\n",
    "        16: \"Lose You\",\n",
    "        17: \"Can't Have Everything\",\n",
    "        18: \"Glow\" ,\n",
    "        19: \"Since Way Back\" ,\n",
    "        20: \"Fake Love\",\n",
    "        21 :\"Ice Melts\" ,\n",
    "        22 :\"Do Not Disturb\"\n",
    "    }\n",
    "}\n",
    "\n",
    "\n",
    "\n",
    "\n",
    "\n",
    "# What data structures do you see?\n",
    "# I see a dictionary\n",
    "#\n",
    "\n",
    "# Printing the dictionary\n",
    "print(lover_album)"
   ]
  },
  {
   "cell_type": "code",
   "execution_count": 11,
   "metadata": {},
   "outputs": [
    {
     "name": "stdout",
     "output_type": "stream",
     "text": [
      "{1: 'Free Smoke', 2: 'No Long Talk', 3.0: 'Passionfruit', 4: 'Jorja Interlude', 5: 'Get It Together', 6: 'Madiba Riddim', 7: 'Blem', 8: '4422', 9.0: 'Gyalchester', 10: 'Skepta Interlude', 11: 'Portland', 12: 'Sacrifices\\u200b', 13: 'Nothings Into Somethings', 14: 'Teenage Fever', 15: 'KMT', 16: 'Lose You', 17: \"Can't Have Everything\", 18: 'Glow', 19: 'Since Way Back', 20: 'Fake Love', 21: 'Ice Melts', 22: 'Do Not Disturb'}\n",
      "{1: 'Free Smoke', 2: 'No Long Talk', 3.0: 'Passionfruit', 4: 'Jorja Interlude', 5: 'Get It Together', 6: 'Madiba Riddim', 7: 'Blem', 8: '4422', 9.0: 'Gyalchester', 10: 'Skepta Interlude', 11: 'Portland', 12: 'Sacrifices\\u200b', 13: 'Nothings Into Somethings', 14: 'Teenage Fever', 15: 'KMT', 16: 'Lose You', 17: \"Can't Have Everything\", 18: 'Glow', 19: 'Since Way Back', 20: 'Fake Love', 21: 'Ice Melts', 22: 'Do Not Disturb'}\n"
     ]
    }
   ],
   "source": [
    "# Retrieve value from dictionary with key\n",
    "print(lover_album.get('tracks'))\n",
    "# or\n",
    "print(lover_album['tracks'])"
   ]
  },
  {
   "cell_type": "code",
   "execution_count": 17,
   "metadata": {},
   "outputs": [
    {
     "name": "stdout",
     "output_type": "stream",
     "text": [
      "['Free Smoke', 'No Long Talk', 'Passionfruit', 'Jorja Interlude', 'Get It Together', 'Madiba Riddim', 'Blem', '4422', 'Gyalchester', 'Skepta Interlude', 'Portland', 'Sacrifices\\u200b', 'Nothings Into Somethings', 'Teenage Fever', 'KMT', 'Lose You', \"Can't Have Everything\", 'Glow', 'All Of The Girls You Loved Before', 'Fake Love', 'Ice Melts', 'Do Not Disturb']\n"
     ]
    }
   ],
   "source": [
    "track_names = [track_name for track_name in lover_album[\"tracks\"].values()]\n",
    "print(track_names)\n",
    "\n",
    "# puts everything into a list"
   ]
  },
  {
   "cell_type": "code",
   "execution_count": 18,
   "metadata": {},
   "outputs": [
    {
     "name": "stdout",
     "output_type": "stream",
     "text": [
      "Jorja Interlude\n",
      "Jorja Interlude\n"
     ]
    }
   ],
   "source": [
    "# Retrieve value from a dictionary inside a dictionary\n",
    "print(lover_album.get('tracks')[4])\n",
    "# or\n",
    "print(lover_album['tracks'][4])"
   ]
  },
  {
   "cell_type": "code",
   "execution_count": 19,
   "metadata": {},
   "outputs": [
    {
     "name": "stdout",
     "output_type": "stream",
     "text": [
      "{'title': '', 'artist': 'Drake', 'year': 2017, 'genre': ['rap', 'rnb'], 'tracks': {1: 'Free Smoke', 2: 'No Long Talk', 3.0: 'Passionfruit', 4: 'Jorja Interlude', 5: 'Get It Together', 6: 'Madiba Riddim', 7: 'Blem', 8: '4422', 9.0: 'Gyalchester', 10: 'Skepta Interlude', 11: 'Portland', 12: 'Sacrifices\\u200b', 13: 'Nothings Into Somethings', 14: 'Teenage Fever', 15: 'KMT', 16: 'Lose You', 17: \"Can't Have Everything\", 18: 'Glow', 19: 'All Of The Girls You Loved Before', 20: 'Fake Love', 21: 'Ice Melts', 22: 'Do Not Disturb'}, 'producer': ['Taylor Swift', 'Jack Antonoff', 'Joel Little', 'Taylor Swift', 'Louis Bell', 'Frank Dukes']}\n"
     ]
    }
   ],
   "source": [
    "# adding a value with a new key\n",
    "lover_album[\"producer\"] = ['Taylor Swift', 'Jack Antonoff', 'Joel Little', 'Taylor Swift', 'Louis Bell', 'Frank Dukes']\n",
    "\n",
    "# What can you change to make sure there are no duplicate producers?\n",
    "#\n",
    "#\n",
    "\n",
    "# Printing the dictionary\n",
    "print(lover_album)"
   ]
  },
  {
   "cell_type": "code",
   "execution_count": 20,
   "metadata": {},
   "outputs": [
    {
     "name": "stdout",
     "output_type": "stream",
     "text": [
      "{'title': '', 'artist': 'Drake', 'year': 2017, 'genre': ['rap', 'rnb'], 'tracks': {1: 'Free Smoke', 2: 'No Long Talk', 3.0: 'Passionfruit', 4: 'Jorja Interlude', 5: 'Get It Together', 6: 'Madiba Riddim', 7: 'Blem', 8: '4422', 9.0: 'Gyalchester', 10: 'Skepta Interlude', 11: 'Portland', 12: 'Sacrifices\\u200b', 13: 'Nothings Into Somethings', 14: 'Teenage Fever', 15: 'KMT', 16: 'Lose You', 17: \"Can't Have Everything\", 18: 'Glow', 19: 'All Of The Girls You Loved Before', 20: 'Fake Love', 21: 'Ice Melts', 22: 'Do Not Disturb'}, 'producer': ['Taylor Swift', 'Jack Antonoff', 'Joel Little', 'Taylor Swift', 'Louis Bell', 'Frank Dukes']}\n"
     ]
    }
   ],
   "source": [
    "# Adding a an key-value pair to an existing key \n",
    "lover_album[\"tracks\"].update({19: \"All Of The Girls You Loved Before\"})\n",
    "\n",
    "# How would add an additional genre to the dictionary, like electropop? \n",
    "# \n",
    "# \n",
    "\n",
    "# Printing the dictionary\n",
    "print(lover_album)"
   ]
  },
  {
   "cell_type": "code",
   "execution_count": 21,
   "metadata": {},
   "outputs": [
    {
     "name": "stdout",
     "output_type": "stream",
     "text": [
      "{1: 'Free Smoke', 2: 'No Long Talk', 3.0: 'Passionfruit', 4: 'Jorja Interlude', 5: 'Get It Together', 6: 'Madiba Riddim', 7: 'Blem', 8: '4422', 9.0: 'Gyalchester', 10: 'Skepta Interlude', 11: 'Portland', 12: 'Sacrifices\\u200b', 13: 'Nothings Into Somethings', 14: 'Teenage Fever', 15: 'KMT', 16: 'Lose You', 17: \"Can't Have Everything\", 18: 'Glow', 19: 'All Of The Girls You Loved Before', 20: 'Fake Love', 21: 'Ice Melts', 22: 'Do Not Disturb'}\n"
     ]
    }
   ],
   "source": [
    "print(lover_album.get('tracks'))\n"
   ]
  },
  {
   "cell_type": "code",
   "execution_count": 22,
   "metadata": {},
   "outputs": [
    {
     "name": "stdout",
     "output_type": "stream",
     "text": [
      "{'title': '', 'artist': 'Drake', 'year': 2017, 'genre': ['rap', 'rnb'], 'tracks': {1: 'Free Smoke', 2: 'No Long Talk', 3.0: 'Passionfruit', 4: 'Jorja Interlude', 5: 'Get It Together', 6: 'Madiba Riddim', 7: 'Blem', 8: '4422', 9.0: 'Gyalchester', 10: 'Skepta Interlude', 11: 'Portland', 12: 'Sacrifices\\u200b', 13: 'Nothings Into Somethings', 14: 'Teenage Fever', 15: 'KMT', 16: 'Lose You', 17: \"Can't Have Everything\", 18: 'Glow', 19: 'All Of The Girls You Loved Before', 20: 'Fake Love', 21: 'Ice Melts', 22: 'Do Not Disturb'}, 'producer': {'kanyewest'}}\n"
     ]
    }
   ],
   "source": [
    "lover_album[\"producer\"] = set(['kanyewest'])\n",
    "print(lover_album)\n"
   ]
  },
  {
   "cell_type": "code",
   "execution_count": 23,
   "metadata": {},
   "outputs": [
    {
     "name": "stdout",
     "output_type": "stream",
     "text": [
      "title: \n",
      "artist: Drake\n",
      "year: 2017\n",
      "genre: ['rap', 'rnb']\n",
      "tracks: {1: 'Free Smoke', 2: 'No Long Talk', 3.0: 'Passionfruit', 4: 'Jorja Interlude', 5: 'Get It Together', 6: 'Madiba Riddim', 7: 'Blem', 8: '4422', 9.0: 'Gyalchester', 10: 'Skepta Interlude', 11: 'Portland', 12: 'Sacrifices\\u200b', 13: 'Nothings Into Somethings', 14: 'Teenage Fever', 15: 'KMT', 16: 'Lose You', 17: \"Can't Have Everything\", 18: 'Glow', 19: 'All Of The Girls You Loved Before', 20: 'Fake Love', 21: 'Ice Melts', 22: 'Do Not Disturb'}\n",
      "producer: {'kanyewest'}\n"
     ]
    },
    {
     "ename": "NameError",
     "evalue": "name 'track' is not defined",
     "output_type": "error",
     "traceback": [
      "\u001b[0;31m---------------------------------------------------------------------------\u001b[0m",
      "\u001b[0;31mNameError\u001b[0m                                 Traceback (most recent call last)",
      "\u001b[1;32m/Users/kushsirohi/Desktop/kushsirohirepo-1/_notebooks/2023-03-29-DS-hashmaps.ipynb Cell 15\u001b[0m in \u001b[0;36m<cell line: 6>\u001b[0;34m()\u001b[0m\n\u001b[1;32m      <a href='vscode-notebook-cell:/Users/kushsirohi/Desktop/kushsirohirepo-1/_notebooks/2023-03-29-DS-hashmaps.ipynb#X43sZmlsZQ%3D%3D?line=1'>2</a>\u001b[0m     \u001b[39mprint\u001b[39m(\u001b[39mstr\u001b[39m(k) \u001b[39m+\u001b[39m \u001b[39m\"\u001b[39m\u001b[39m: \u001b[39m\u001b[39m\"\u001b[39m \u001b[39m+\u001b[39m \u001b[39mstr\u001b[39m(v))\n\u001b[1;32m      <a href='vscode-notebook-cell:/Users/kushsirohi/Desktop/kushsirohirepo-1/_notebooks/2023-03-29-DS-hashmaps.ipynb#X43sZmlsZQ%3D%3D?line=5'>6</a>\u001b[0m \u001b[39mfor\u001b[39;00m i \u001b[39min\u001b[39;00m lover_album\u001b[39m.\u001b[39mget(\u001b[39m\"\u001b[39m\u001b[39mtracks\u001b[39m\u001b[39m\"\u001b[39m):\n\u001b[0;32m----> <a href='vscode-notebook-cell:/Users/kushsirohi/Desktop/kushsirohirepo-1/_notebooks/2023-03-29-DS-hashmaps.ipynb#X43sZmlsZQ%3D%3D?line=6'>7</a>\u001b[0m     track \u001b[39m=\u001b[39m track \u001b[39m+\u001b[39m lover_album[\u001b[39m\"\u001b[39m\u001b[39mtracks\u001b[39m\u001b[39m\"\u001b[39m][i]\n\u001b[1;32m      <a href='vscode-notebook-cell:/Users/kushsirohi/Desktop/kushsirohirepo-1/_notebooks/2023-03-29-DS-hashmaps.ipynb#X43sZmlsZQ%3D%3D?line=7'>8</a>\u001b[0m     \u001b[39mprint\u001b[39m(\u001b[39mf\u001b[39m\u001b[39m\"\u001b[39m\u001b[39mI love \u001b[39m\u001b[39m{\u001b[39;00mtrack\u001b[39m}\u001b[39;00m\u001b[39m\"\u001b[39m)\n",
      "\u001b[0;31mNameError\u001b[0m: name 'track' is not defined"
     ]
    }
   ],
   "source": [
    "for k,v in lover_album.items(): # iterate using a for loop for key and value\n",
    "    print(str(k) + \": \" + str(v))\n",
    "\n",
    "\n",
    "\n",
    "for i in lover_album.get(\"tracks\"):\n",
    "    track = track + lover_album[\"tracks\"][i]\n",
    "    print(f\"I love {track}\")\n"
   ]
  },
  {
   "cell_type": "code",
   "execution_count": null,
   "metadata": {},
   "outputs": [
    {
     "name": "stdout",
     "output_type": "stream",
     "text": [
      "title: \n",
      "artist: Drake\n",
      "year: 2017\n",
      "genre: ['rap', 'rnb']\n",
      "tracks: {1: 'Free Smoke', 2: 'No Long Talk', 3.0: 'Passionfruit', 4: 'Jorja Interlude', 5: 'Get It Together', 6: 'Madiba Riddim', 7: 'Blem', 8: '4422', 9.0: 'Gyalchester', 10: 'Skepta Interlude', 11: 'Portland', 12: 'Sacrifices\\u200b', 13: 'Nothings Into Somethings', 14: 'Teenage Fever', 15: 'KMT', 16: 'Lose You', 17: \"Can't Have Everything\", 18: 'Glow', 19: 'All Of The Girls You Loved Before', 20: 'Fake Love', 21: 'Ice Melts', 22: 'Do Not Disturb'}\n",
      "producer: ['Taylor Swift', 'Jack Antonoff', 'Joel Little', 'Taylor Swift', 'Louis Bell', 'Frank Dukes']\n"
     ]
    }
   ],
   "source": [
    "# Print lover_album in more readable format\n",
    "for k,v in lover_album.items(): # iterate using a for loop for key and value\n",
    "    print(str(k) + \": \" + str(v))\n",
    "\n",
    "# Write your own code to print tracks in readable format\n",
    "#\n",
    "#"
   ]
  },
  {
   "cell_type": "code",
   "execution_count": null,
   "metadata": {},
   "outputs": [
    {
     "name": "stdout",
     "output_type": "stream",
     "text": [
      "Invalid Search\n"
     ]
    }
   ],
   "source": [
    "# Using conditionals to retrieve a random song\n",
    "def search():\n",
    "    search = input(\"What would you like to know about the album?\")\n",
    "    if lover_album.get(search.lower()) == None:\n",
    "        print(\"Invalid Search\")\n",
    "    else:\n",
    "        print(lover_album.get(search.lower()))\n",
    "\n",
    "search()\n",
    "\n",
    "# This is a very basic code segment, how can you improve upon this code?\n",
    "#\n",
    "#"
   ]
  },
  {
   "attachments": {},
   "cell_type": "markdown",
   "metadata": {},
   "source": [
    "## Hacks\n",
    "\n",
    "- Answer *ALL* questions in the code segments\n",
    "- Create a diagram or comparison illustration (Canva).\n",
    "    - What are the pro and cons of using this data structure? \n",
    "    - Dictionary vs List    \n",
    "\n",
    "    ![Image](../images/listsdictionaries.png)\n",
    "\n",
    "- Expand upon the code given to you, possible improvements in comments\n",
    "- Build your own album showing features of a python dictionary\n",
    "\n",
    "- For Mr. Yeung's class: Justify your favorite Taylor Swift song, answer may effect seed"
   ]
  }
 ],
 "metadata": {
  "kernelspec": {
   "display_name": "base",
   "language": "python",
   "name": "python3"
  },
  "language_info": {
   "codemirror_mode": {
    "name": "ipython",
    "version": 3
   },
   "file_extension": ".py",
   "mimetype": "text/x-python",
   "name": "python",
   "nbconvert_exporter": "python",
   "pygments_lexer": "ipython3",
   "version": "3.9.12"
  },
  "orig_nbformat": 4
 },
 "nbformat": 4,
 "nbformat_minor": 2
}

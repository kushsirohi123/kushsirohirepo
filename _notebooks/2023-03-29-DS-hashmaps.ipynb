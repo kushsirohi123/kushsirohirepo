{
 "cells": [
  {
   "attachments": {},
   "cell_type": "markdown",
   "metadata": {},
   "source": [
    "#  Data Structures- Hashmaps, Sets, Hash Tables, Hashing and Collisions\n",
    "> Observing hashmaps with python dictionaries\n",
    "- toc: true\n",
    "- image: /images/python.png\n",
    "- categories: []\n",
    "- type: pbl\n",
    "- week: 28"
   ]
  },
  {
   "attachments": {},
   "cell_type": "markdown",
   "metadata": {},
   "source": [
    "## What is a Hashtable/Hashmap?\n",
    "\n",
    "> A hashtable is a data structure that with a collection of key-value pairs, where each key maps to a value, and the keys must be unique and hashable.\n",
    "\n",
    "- In Python there is a built in hashtable known as a Dictonary.\n",
    "\n",
    "> The primary purpose of a hashtable is to provide efficient lookup, insertion, and deletion operations. When an element is to be inserted into the hashtable, a hash function is used to map the key to a specific index in the underlying array that is used to store the key-value pairs. The value is then stored at that index. When searching for a value, the hash function is used again to find the index where the value is stored.\n",
    "\n",
    "> The key advantage of a hashtable over other data structures like arrays and linked lists is its average-case time complexity for lookup, insertion, and deletion operations.\n",
    "\n",
    "- The typical time complexity of a hashtable is 1. \n"
   ]
  },
  {
   "attachments": {},
   "cell_type": "markdown",
   "metadata": {},
   "source": [
    "## What is Hashing and Collision?\n",
    "\n",
    "> Hashing is the process of mapping a given key to a value in a hash table or hashmap, using a hash function. The hash function takes the key as input and produces a hash value or hash code, which is then used to determine the index in the underlying array where the value is stored. The purpose of hashing is to provide a quick and efficient way to access data, by eliminating the need to search through an entire data structure to find a value.\n",
    "\n",
    "> However, it is possible for two different keys to map to the same hash value, resulting in a collision. When a collision occurs, there are different ways to resolve it, depending on the collision resolution strategy used.\n",
    "\n",
    "> Python's dictionary implementation is optimized to handle collisions efficiently, and the performance of the dictionary is generally very good, even in the presence of collisions. However, if the number of collisions is very high, the performance of the dictionary can degrade, so it is important to choose a good hash function that minimizes collisions when designing a Python dictionary.\n",
    "\n",
    "## What is a Set?"
   ]
  },
  {
   "cell_type": "code",
   "execution_count": 40,
   "metadata": {},
   "outputs": [
    {
     "name": "stdout",
     "output_type": "stream",
     "text": [
      "{1, 2, 3}\n"
     ]
    }
   ],
   "source": [
    "# Creating a set using set() function\n",
    "my_set = set([1, 2, 3, 2, 1])\n",
    "print(my_set)  \n",
    "\n",
    "# What do you notice in the output?\n",
    "# its in numbered ordered, and doesn't do the repeated value\n",
    "#\n",
    "\n",
    "# Why do you think Sets are in the same tech talk as Hashmaps/Hashtables?\n",
    "# Because they both have collison\n",
    "#"
   ]
  },
  {
   "attachments": {},
   "cell_type": "markdown",
   "metadata": {},
   "source": [
    "## Dictionary Example\n",
    "\n",
    "Below are just some basic features of a dictionary. As always, documentation is always the main source for all the full capablilties. "
   ]
  },
  {
   "cell_type": "code",
   "execution_count": 41,
   "metadata": {},
   "outputs": [
    {
     "name": "stdout",
     "output_type": "stream",
     "text": [
      "{'title': 'Theo', 'artist': 'Kush', 'year': 2023, 'genre': ['theo'], 'tracks': {1: 'The adventures of Theo Huntalas', 2: 'Theo', 3: 'Theo1', 4: 'Theo2', 5: 'theo4', 6: 'theo5', 7: ' theo6', 8: 'theo7', 9: 'theo8', 10: 'theo9', 11: 'theo10', 12: 'theo11', 13: 'theo12', 14: 'theo13', 15: 'theo14', 16: 'theo15', 17: 'theo16', 18: 'theo17'}}\n"
     ]
    }
   ],
   "source": [
    "# Creating a dictionary with information about the album \"Lover\"\n",
    "album = {\n",
    "    \"title\": \"Theo\",\n",
    "    \"artist\": \"Kush\",\n",
    "    \"year\": 2023,\n",
    "    \"genre\": [\"theo\"],\n",
    "    \"tracks\": {\n",
    "        1: \"The adventures of Theo Huntalas\",\n",
    "        2: \"Theo\",\n",
    "        3: \"Theo1\",\n",
    "        4: \"Theo2\",\n",
    "        5: \"theo4\",\n",
    "        6: \"theo5\",\n",
    "        7: \" theo6\",\n",
    "        8: \"theo7\",\n",
    "        9: \"theo8\",\n",
    "        10: \"theo9\",\n",
    "        11: \"theo10\",\n",
    "        12: \"theo11\",\n",
    "        13: \"theo12\",\n",
    "        14: \"theo13\",\n",
    "        15: \"theo14\",\n",
    "        16: \"theo15\",\n",
    "        17: \"theo16\",\n",
    "        18: \"theo17\"\n",
    "    }\n",
    "}\n",
    "\n",
    "# What data structures do you see?\n",
    "#   \n",
    "#\n",
    "\n",
    "# Printing the dictionary\n",
    "print(album)"
   ]
  },
  {
   "cell_type": "code",
   "execution_count": 42,
   "metadata": {},
   "outputs": [
    {
     "name": "stdout",
     "output_type": "stream",
     "text": [
      "{1: 'The adventures of Theo Huntalas', 2: 'Theo', 3: 'Theo1', 4: 'Theo2', 5: 'theo4', 6: 'theo5', 7: ' theo6', 8: 'theo7', 9: 'theo8', 10: 'theo9', 11: 'theo10', 12: 'theo11', 13: 'theo12', 14: 'theo13', 15: 'theo14', 16: 'theo15', 17: 'theo16', 18: 'theo17'}\n",
      "{1: 'The adventures of Theo Huntalas', 2: 'Theo', 3: 'Theo1', 4: 'Theo2', 5: 'theo4', 6: 'theo5', 7: ' theo6', 8: 'theo7', 9: 'theo8', 10: 'theo9', 11: 'theo10', 12: 'theo11', 13: 'theo12', 14: 'theo13', 15: 'theo14', 16: 'theo15', 17: 'theo16', 18: 'theo17'}\n"
     ]
    }
   ],
   "source": [
    "# Retrieve value from dictionary with key\n",
    "print(album.get('tracks'))\n",
    "# or\n",
    "print(album['tracks'])"
   ]
  },
  {
   "cell_type": "code",
   "execution_count": 43,
   "metadata": {},
   "outputs": [
    {
     "name": "stdout",
     "output_type": "stream",
     "text": [
      "Theo2\n",
      "Theo2\n"
     ]
    }
   ],
   "source": [
    "# Retrieve value from a dictionary inside a dictionary\n",
    "print(album.get('tracks')[4])\n",
    "# or\n",
    "print(album['tracks'][4])"
   ]
  },
  {
   "cell_type": "code",
   "execution_count": 44,
   "metadata": {},
   "outputs": [
    {
     "name": "stdout",
     "output_type": "stream",
     "text": [
      "{'title': 'Theo', 'artist': 'Kush', 'year': 2023, 'genre': ['theo'], 'tracks': {1: 'The adventures of Theo Huntalas', 2: 'Theo', 3: 'Theo1', 4: 'Theo2', 5: 'theo4', 6: 'theo5', 7: ' theo6', 8: 'theo7', 9: 'theo8', 10: 'theo9', 11: 'theo10', 12: 'theo11', 13: 'theo12', 14: 'theo13', 15: 'theo14', 16: 'theo15', 17: 'theo16', 18: 'theo17'}, 'producer': {'Kush1', 'kush3', 'kush6', 'kush5', 'Kush2', 'kush4'}}\n"
     ]
    }
   ],
   "source": [
    "# adding a value with a new key\n",
    "album[\"producer\"] = set(['Kush1', 'Kush2', 'kush3', 'kush4', 'kush5', 'kush6'])\n",
    "\n",
    "# What can you change to make sure there are no duplicate producers?\n",
    "# Make it into a set\n",
    "#\n",
    "\n",
    "# Printing the dictionary\n",
    "print(album)"
   ]
  },
  {
   "cell_type": "code",
   "execution_count": 45,
   "metadata": {},
   "outputs": [
    {
     "name": "stdout",
     "output_type": "stream",
     "text": [
      "{'title': 'Theo', 'artist': 'Kush', 'year': 2023, 'genre': ['theo', 'theo'], 'tracks': {1: 'The adventures of Theo Huntalas', 2: 'Theo', 3: 'Theo1', 4: 'Theo2', 5: 'theo4', 6: 'theo5', 7: ' theo6', 8: 'theo7', 9: 'theo8', 10: 'theo9', 11: 'theo10', 12: 'theo11', 13: 'theo12', 14: 'theo13', 15: 'theo14', 16: 'theo15', 17: 'theo16', 18: 'theo17', 19: 'Theo19'}, 'producer': {'Kush1', 'kush3', 'kush6', 'kush5', 'Kush2', 'kush4'}}\n"
     ]
    }
   ],
   "source": [
    "# Adding a an key-value pair to an existing key \n",
    "album[\"tracks\"].update({19: \"Theo19\"})\n",
    "album[\"genre\"].append(\"theo\")\n",
    "# How would add an additional genre to the dictionary, like electropop? \n",
    "# do the .update()\n",
    "# \n",
    "\n",
    "# Printing the dictionary\n",
    "print(album)"
   ]
  },
  {
   "cell_type": "code",
   "execution_count": 46,
   "metadata": {},
   "outputs": [
    {
     "name": "stdout",
     "output_type": "stream",
     "text": [
      "title: Theo\n",
      "artist: Kush\n",
      "year: 2023\n",
      "genre: ['theo', 'theo']\n",
      "tracks: {1: 'The adventures of Theo Huntalas', 2: 'Theo', 3: 'Theo1', 4: 'Theo2', 5: 'theo4', 6: 'theo5', 7: ' theo6', 8: 'theo7', 9: 'theo8', 10: 'theo9', 11: 'theo10', 12: 'theo11', 13: 'theo12', 14: 'theo13', 15: 'theo14', 16: 'theo15', 17: 'theo16', 18: 'theo17', 19: 'Theo19'}\n",
      "producer: {'Kush1', 'kush3', 'kush6', 'kush5', 'Kush2', 'kush4'}\n",
      "I love The adventures of Theo Huntalas\n",
      "I love Theo\n",
      "I love Theo1\n",
      "I love Theo2\n",
      "I love theo4\n",
      "I love theo5\n",
      "I love  theo6\n",
      "I love theo7\n",
      "I love theo8\n",
      "I love theo9\n",
      "I love theo10\n",
      "I love theo11\n",
      "I love theo12\n",
      "I love theo13\n",
      "I love theo14\n",
      "I love theo15\n",
      "I love theo16\n",
      "I love theo17\n",
      "I love Theo19\n"
     ]
    }
   ],
   "source": [
    "# Print lover_album in more readable format\n",
    "for k,v in album.items(): # iterate using a for loop for key and value\n",
    "    print(str(k) + \": \" + str(v))\n",
    "\n",
    "\n",
    "\n",
    "for i in album.get(\"tracks\"):\n",
    "    track = album[\"tracks\"][i]\n",
    "    print(f\"I love {track}\")\n",
    "\n",
    "\n",
    "# Write your own code to print tracks in readable format\n",
    "# \n",
    "#"
   ]
  },
  {
   "cell_type": "code",
   "execution_count": 49,
   "metadata": {},
   "outputs": [
    {
     "name": "stdout",
     "output_type": "stream",
     "text": [
      "theo1\n",
      "Invalid search\n"
     ]
    }
   ],
   "source": [
    "\n",
    "def search():\n",
    "    search_term = input(\"What would you like to know about the album?\")\n",
    "    print(search_term)\n",
    "    search_results = []\n",
    "    for key in album.keys():\n",
    "        if search_term.lower() in key:\n",
    "            search_results.append(album[key])\n",
    "            print(search_results)\n",
    "    if not search_results:\n",
    "        print(\"Invalid search\")\n",
    "\n",
    "search()\n",
    "\n",
    "\n",
    "# This is a very basic code segment, how can you improve upon this code?\n",
    "# add capitalization handling"
   ]
  },
  {
   "attachments": {},
   "cell_type": "markdown",
   "metadata": {},
   "source": [
    "## Hacks\n",
    "\n",
    "- Answer *ALL* questions in the code segments\n",
    "- Create a diagram or comparison illustration (Canva).\n",
    "    - What are the pro and cons of using this data structure? \n",
    "    - Dictionary vs List\n",
    "\n",
    "- Expand upon the code given to you, possible improvements in comments\n",
    "    - Could you list compression instead of so many for loops\n",
    "    - Added captalizion error handling in the search function\n",
    "- Build your own album showing features of a python dictionary\n",
    "\n",
    "- For Mr. Yeung's class: Justify your favorite Taylor Swift song, answer may effect seed"
   ]
  },
  {
   "attachments": {},
   "cell_type": "markdown",
   "metadata": {},
   "source": [
    "## Hacks Answered\n",
    "- Dict\n",
    "    - Pros: You can retrive values with keys, easier to associate certain types of data with certain types of keys\n",
    "    - Cons: You cannot edit it \n",
    "- List\n",
    "    - Pros: You can update it at any time, use crud \n",
    "    - Cons: It takes longer \n",
    "\n",
    "- Expand upon the code given to you, possible improvements in comments\n",
    "    - Could you list compression instead of so many for loops\n",
    "    - Added captalizion error handling in the search function\n",
    "\n",
    "## My own Album"
   ]
  },
  {
   "cell_type": "code",
   "execution_count": 50,
   "metadata": {},
   "outputs": [
    {
     "name": "stdout",
     "output_type": "stream",
     "text": [
      "{'Kush Sirohi'}\n",
      "['Theo Huntalas', 'Theo Huntalas goes shopping', 'Theo Huntalas goes to school', 'Theo Huntalas goes to sleep', 'Theo Huntalas wakes up', 'Theo Huntalas eats breakfast', 'Theo Huntalas drives a car', 'Theo Huntalas eats lunch', 'Theo Huntalas watches a movie', 'Theo Huntalas sleeps again']\n",
      "I love Theo Huntalas\n",
      "I love Theo Huntalas goes shopping\n",
      "I love Theo Huntalas goes to school\n",
      "I love Theo Huntalas goes to sleep\n",
      "I love Theo Huntalas wakes up\n",
      "I love Theo Huntalas eats breakfast\n",
      "I love Theo Huntalas drives a car\n",
      "I love Theo Huntalas eats lunch\n",
      "I love Theo Huntalas watches a movie\n",
      "I love Theo Huntalas sleeps again\n"
     ]
    }
   ],
   "source": [
    "theozaddy = {\n",
    "    \"title\": \"Drake\",\n",
    "    \"artist\": \"Drake\",\n",
    "    \"year\": 2069,\n",
    "    \"genre\": [\"Rap\"],\n",
    "    \"tracks\": {\n",
    "        1: \"Theo Huntalas\",\n",
    "        2: \"Theo Huntalas goes shopping\",\n",
    "        3: \"Theo Huntalas goes to school\",\n",
    "        4: \"Theo Huntalas goes to sleep\",\n",
    "        5: \"Theo Huntalas wakes up\",\n",
    "        6: \"Theo Huntalas eats breakfast\",\n",
    "        7: \"Theo Huntalas drives a car\",\n",
    "        8: \"Theo Huntalas eats lunch\",\n",
    "        9: \"Theo Huntalas watches a movie\",\n",
    "        10: \"Theo Huntalas sleeps again\"\n",
    "    }\n",
    "}\n",
    "\n",
    "## Using SET\n",
    "theozaddy[\"biggest fan\"] = set(['Kush Sirohi', 'Kush Sirohi', 'Kush Sirohi' ])\n",
    "print(theozaddy[\"biggest fan\"])\n",
    "\n",
    "## Gets all the track names and puts them into a list\n",
    "track_names = [track_name for track_name in theozaddy[\"tracks\"].values()]\n",
    "print(track_names)\n",
    "\n",
    "## I love \"insert song name\" + list comprehenison using GET\n",
    "_ = [print(f\"I love {theozaddy['tracks'][i]}\") for i in theozaddy.get(\"tracks\")]\n",
    "\n",
    "\n",
    "\n",
    "\n",
    "\n"
   ]
  }
 ],
 "metadata": {
  "kernelspec": {
   "display_name": "base",
   "language": "python",
   "name": "python3"
  },
  "language_info": {
   "codemirror_mode": {
    "name": "ipython",
    "version": 3
   },
   "file_extension": ".py",
   "mimetype": "text/x-python",
   "name": "python",
   "nbconvert_exporter": "python",
   "pygments_lexer": "ipython3",
   "version": "3.9.12"
  },
  "orig_nbformat": 4
 },
 "nbformat": 4,
 "nbformat_minor": 2
}

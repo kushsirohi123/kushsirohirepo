{
 "cells": [
  {
   "attachments": {},
   "cell_type": "markdown",
   "metadata": {},
   "source": [
    "#  CPT draft\n",
    "> CPT DRAFT\n",
    "- toc: true\n",
    "- categories: []\n",
    "- type: pbl\n",
    "- week: 30\n",
    "\n",
    " \n",
    "\n",
    "\n",
    "# 3 Written Response\n",
    "\n",
    "## 3.a.i.\n",
    "Overall purpose of the program:\n",
    "    The overall purpose of the program is to help users decide on a budget for their home and for them to calculate what their monthly payment on a home would be. \n",
    "\n",
    "### 3.a.ii.\n",
    "    I inputted in different values for the quiz, such as my credit score and my budget, and I got a recommendation for the price. The \"better\" answers you click, the higher your score.\n",
    "    \n",
    "### 3.a.iii.\n",
    "     For my mortgage calculator, I inputted a loan amount, interest rate, and loan length, and it outputted my monthly payment over the amount of years that I put in. \n",
    "\n",
    "\n",
    "\n",
    "\n",
    "\n",
    "\n",
    "## 3c\n",
    "### 3.c.i.\n",
    "    \n",
    "![Image](../images/C1.png)\n",
    "### 3.c.ii.\n",
    "![Image](../images/C2.png)\n",
    "### 3.c.iii.\n",
    "- The list is named Questions, because it holds the questions inside of the project \n",
    "### 3.c.iv.\n",
    "- The list holds all the questions for my quiz inside of the project. The function \"updateQ\" uses the list in a way that it iterates thru the questions and displays them. With having only one list and a function iterating through the list and displaying them, it shortens the code and makes it easier to write, instead of making multiple conditional statements for every single question. \n",
    "\n",
    "\n",
    "\n",
    ">"
   ]
  },
  {
   "cell_type": "code",
   "execution_count": null,
   "metadata": {
    "vscode": {
     "languageId": "plaintext"
    }
   },
   "outputs": [],
   "source": []
  }
 ],
 "metadata": {
  "language_info": {
   "name": "python"
  },
  "orig_nbformat": 4
 },
 "nbformat": 4,
 "nbformat_minor": 2
}

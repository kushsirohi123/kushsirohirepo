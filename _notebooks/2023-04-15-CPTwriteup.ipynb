{
 "cells": [
  {
   "attachments": {},
   "cell_type": "markdown",
   "metadata": {},
   "source": [
    "#  CPT draft\n",
    "> CPT DRAFT\n",
    "- toc: true\n",
    "- categories: []\n",
    "- type: pbl\n",
    "- week: 30\n",
    "\n",
    " \n",
    "\n",
    "[CPT video link](https://clipchamp.com/watch/7dJn848SqWA)\n",
    "\n",
    "\n",
    "# Written Response\n",
    ">"
   ]
  }
 ],
 "metadata": {
  "language_info": {
   "name": "python"
  },
  "orig_nbformat": 4
 },
 "nbformat": 4,
 "nbformat_minor": 2
}

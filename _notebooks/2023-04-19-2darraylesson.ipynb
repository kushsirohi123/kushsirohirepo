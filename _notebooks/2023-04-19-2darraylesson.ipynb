{
 "cells": [
  {
   "attachments": {},
   "cell_type": "markdown",
   "metadata": {},
   "source": [
    "\n",
    "#  2d array lesson \n",
    "> We will discuss 2d arrays and show its functionality using 2d arrays.  \n",
    "- toc: true\n",
    "\n"
   ]
  },
  {
   "attachments": {},
   "cell_type": "markdown",
   "metadata": {},
   "source": [
    "# What are 2d arrays?\n",
    "\n",
    "- 2d arrays aka 2 dimensional arrays are a method of storing data where the data is stored in a grid like pattern, with rows and columns. It is essentially a list within a list.  "
   ]
  },
  {
   "cell_type": "code",
   "execution_count": 97,
   "metadata": {},
   "outputs": [
    {
     "name": "stdout",
     "output_type": "stream",
     "text": [
      "1\n"
     ]
    }
   ],
   "source": [
    "#  Manipulating 2d arrays: 2d arrays \n",
    "\n",
    "# ACCESSING ELEMENTS\n",
    "\n",
    "array = [[1,2,3],[4,5,6],[7,8,9]]\n",
    "\n",
    "print(array[0][0])\n",
    "\n",
    "\n",
    "# reassigning parts of the 2d array \n",
    "array[1][2] = 10\n",
    "\n",
    "print(array)\n",
    "\n",
    "\n"
   ]
  },
  {
   "cell_type": "code",
   "execution_count": 118,
   "metadata": {},
   "outputs": [
    {
     "name": "stdout",
     "output_type": "stream",
     "text": [
      "   0 1 2\n",
      "0        \n",
      "1        \n",
      "2        \n",
      "   0 1 2\n",
      "0        \n",
      "1    X   \n",
      "2        \n",
      "   0 1 2\n",
      "0        \n",
      "1    X   \n",
      "2      O \n",
      "   0 1 2\n",
      "0    X   \n",
      "1    X   \n",
      "2      O \n",
      "   0 1 2\n",
      "0  O X   \n",
      "1    X   \n",
      "2      O \n",
      "   0 1 2\n",
      "0  O X   \n",
      "1    X   \n",
      "2    X O \n",
      "X wins!\n"
     ]
    }
   ],
   "source": [
    "# Tic Tac Toe game using 2D arrays in Python\n",
    "\n",
    "# Define the game board as a 3x3 2D array\n",
    "\n",
    "board = [[' ', ' ', ' '],\n",
    "         [' ', ' ', ' '],\n",
    "         [' ', ' ', ' ']]\n",
    "\n",
    "# Function to print the current state of the game board\n",
    "def print_board():\n",
    "    print(\"   1 2 3\")\n",
    "    for i in range(3):\n",
    "        print(i, end='  ')\n",
    "        for j in range(3):\n",
    "            print(board[i][j], end=' ')\n",
    "        print()\n",
    "\n",
    "# Function to check if a player has won the game\n",
    "def check_win(player):\n",
    "    # Check rows for a win\n",
    "    for i in range(3):\n",
    "        if board[i][0] == player and board[i][1] == player and board[i][2] == player:\n",
    "            return True\n",
    "    # Check columns for a win\n",
    "    for j in range(3):\n",
    "        if board[0][j] == player and board[1][j] == player and board[2][j] == player:\n",
    "            return True\n",
    "    # Check diagonals for a win\n",
    "    if board[0][0] == player and board[1][1] == player and board[2][2] == player:\n",
    "        return True\n",
    "    if board[0][2] == player and board[1][1] == player and board[2][0] == player:\n",
    "        return True\n",
    "    # If no win condition is met, return False\n",
    "    return False\n",
    "\n",
    "# Function to check if the game is a tie\n",
    "def check_tie():\n",
    "    for i in range(3):\n",
    "        for j in range(3):\n",
    "            if board[i][j] == ' ':\n",
    "                return False\n",
    "    return True\n",
    "\n",
    "# Function to play the game\n",
    "def play_game():\n",
    "    # Initialize player and turn counter\n",
    "    player = 'X'\n",
    "    turns = 0\n",
    "    # Loop until the game is over\n",
    "    while True:\n",
    "        # Print the current state of the board\n",
    "        print_board()\n",
    "        # Get the player's move\n",
    "        row = int(input(f\"{player}'s turn. Enter row (0-2): \"))\n",
    "        col = int(input(f\"{player}'s turn. Enter column (0-2): \"))\n",
    "        # Check if the move is valid\n",
    "        if board[row][col] == ' ':\n",
    "            board[row][col] = player\n",
    "            turns += 1\n",
    "            # Check if the player has won\n",
    "            if check_win(player):\n",
    "                print_board()\n",
    "                print(f\"{player} wins!\")\n",
    "                return\n",
    "            # Check if the game is a tie\n",
    "            if check_tie():\n",
    "                print_board()\n",
    "                print(\"It's a tie!\")\n",
    "                return\n",
    "            # Switch players\n",
    "            player = 'O' if player == 'X' else 'X'\n",
    "        else:\n",
    "            print(\"That space is already taken. Try again.\")\n",
    "\n",
    "# Start the game\n",
    "play_game()"
   ]
  },
  {
   "attachments": {},
   "cell_type": "markdown",
   "metadata": {},
   "source": [
    "# Testing your Knowledge (not part of hacks)\n",
    "    - Write a Python program that creates a 2D array with dimensions 3x3 and initializes each element with the value 0. Then, ask the user to enter a row and column number, and change the value of that element to 1. Finally, print the resulting 2D array. Hint: this exact procedure is done in the tic tac toe game above. Please try to do this yourself, and check you answer with the answer key linked below\n",
    "    \n",
    "https://docs.google.com/document/d/19uXqL1ka9gpJXoO7Zq-9YXHvX7A66a-vpo3Mr8O07Ks/edit?usp=sharing"
   ]
  },
  {
   "cell_type": "code",
   "execution_count": 2,
   "metadata": {},
   "outputs": [],
   "source": [
    "arr = [[0, 0, 0], [0, 0, 0], [0, 0, 0]]\n",
    "\n",
    "row = int(input(\"Enter row number: \"))\n",
    "col = int(input(\"Enter column number: \"))\n",
    "\n"
   ]
  }
 ],
 "metadata": {
  "kernelspec": {
   "display_name": "base",
   "language": "python",
   "name": "python3"
  },
  "language_info": {
   "codemirror_mode": {
    "name": "ipython",
    "version": 3
   },
   "file_extension": ".py",
   "mimetype": "text/x-python",
   "name": "python",
   "nbconvert_exporter": "python",
   "pygments_lexer": "ipython3",
   "version": "3.9.12"
  },
  "orig_nbformat": 4
 },
 "nbformat": 4,
 "nbformat_minor": 2
}

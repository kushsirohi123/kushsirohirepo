{
 "cells": [
  {
   "attachments": {},
   "cell_type": "markdown",
   "metadata": {},
   "source": [
    "# DevOps Lesson\n",
    "\n",
    "- toc: true\n",
    "- categories: []\n",
    "- type: pbl"
   ]
  },
  {
   "cell_type": "code",
   "execution_count": 13,
   "metadata": {},
   "outputs": [
    {
     "name": "stdout",
     "output_type": "stream",
     "text": [
      "52.38.7.83\n"
     ]
    }
   ],
   "source": [
    "import socket\n",
    "\n",
    "# Change the following host and see what IP it prints!\n",
    "host = \"netflix.com\"\n",
    "ip = socket.gethostbyname(host)\n",
    "\n",
    "print(ip)"
   ]
  },
  {
   "cell_type": "code",
   "execution_count": 14,
   "metadata": {},
   "outputs": [
    {
     "name": "stdout",
     "output_type": "stream",
     "text": [
      "Successfully connected!\n"
     ]
    }
   ],
   "source": [
    "# Initiate a TCP connection to port 80\n",
    "with socket.socket(socket.AF_INET, socket.SOCK_STREAM) as s:\n",
    "    s.connect((ip, 80))\n",
    "    print(\"Successfully connected!\")"
   ]
  },
  {
   "attachments": {},
   "cell_type": "markdown",
   "metadata": {},
   "source": [
    "## Check-In\n",
    "\n",
    "1. What is an IP address?\n",
    "    IP address is a specific address that every device gets when browsing online\n",
    "\n",
    "2. What is a TCP port?\n",
    "    TCP is Transmission Control Protocol, and it transmits data over the internet"
   ]
  },
  {
   "cell_type": "code",
   "execution_count": 19,
   "metadata": {},
   "outputs": [
    {
     "name": "stdout",
     "output_type": "stream",
     "text": [
      "HTTP/1.1 400 Bad Request\n",
      "Content-Type: text/html;charset=utf-8\n",
      "Content-Language: en\n",
      "Content-Length: 435\n",
      "Date: Sun, 30 Apr 2023 23:06:56 GMT\n",
      "Via: 1.1 i-0364e8fd2150ec848 (us-west-2)\n",
      "Server: api-prod i-0ee837258a2040faf\n",
      "X-Originating-URL: http://100.87.229.144/\n",
      "Set-Cookie: nfvdid=BQFmAAEBEJdJxfVyuwzpo-1XPcUhTkxAoQGe7fnhx9NoKwFoPP8lDzky2aoLeNHfbuGJF1OoejPgWykMwMs_UWqgKi2n7LO0oIN2rwnoKEHk38EMOdFHpw%3D%3D; Domain=.netflix.com; Path=/; Max-Age=31536000\n",
      "X-Netflix.nfstatus: 1_1\n",
      "X-Netflix.proxy.execution-time: 9\n",
      "\n",
      "<!doctype html><html lang=\"en\"><head><title>HTTP Status 400 – Bad Request</title><style type=\"text/css\">body {font-family:Tahoma,Arial,sans-serif;} h1, h2, h3, b {color:white;background-color:#525D76;} h1 {font-size:22px;} h2 {font-size:16px;} h3 {font-size:14px;} p {font-size:12px;} a {color:black;} .line {height:1px;background-color:#525D76;border:none;}</style></head><body><h1>HTTP Status 400 – Bad Request</h1></body></html>\n"
     ]
    }
   ],
   "source": [
    "with socket.socket(socket.AF_INET, socket.SOCK_STREAM) as s:\n",
    "    s.connect((ip, 80))\n",
    "\n",
    "    # Send a GET request to \"/\"\n",
    "    s.sendall(b\"GET / HTTP/1.1\\r\\n\\r\\n\")\n",
    "\n",
    "    # Recieve & print 2048 bytes of data\n",
    "    data = s.recv(2048)\n",
    "    print(data.decode())"
   ]
  },
  {
   "cell_type": "code",
   "execution_count": 23,
   "metadata": {},
   "outputs": [
    {
     "name": "stdout",
     "output_type": "stream",
     "text": [
      "Status code: 200\n",
      "Headers: {'Server': 'nq_website_nonmember-prod-release 7b2b8502-003e-412e-b30f-fff6578a51ae', 'x-frame-options': 'DENY', 'set-cookie': 'flwssn=c184eb5d-de36-4656-8a8d-81f51f480e39; Max-Age=10800; Domain=.netflix.com; Path=/', 'content-type': 'text/html; charset=utf-8', 'cache-control': 'no-cache, no-store, must-revalidate', 'pragma': 'no-cache', 'expires': '0', 'x-robots-tag': 'index', 'date': 'Sun, 30 Apr 2023 23:07:19 GMT', 'x-envoy-upstream-service-time': '248', 'x-b3-traceid': 'bf06218a78baa8cf', 'x-request-id': 'f9edbab1-f748-4939-89e4-ad87308bf2d9', 'x-envoy-decorator-operation': 'lo_svc', 'x-http2-stream-id': '3', 'Via': '1.1 i-0fc38c42699e355d4 (us-west-2)', 'X-Xss-Protection': '1; mode=block; report=https://www.netflix.com/ichnaea/log/freeform/xssreport', 'X-Content-Type-Options': 'nosniff', 'Strict-Transport-Security': 'max-age=31536000; includeSubDomains', 'X-Originating-URL': 'http://www.netflix.com/', 'X-Netflix.nfstatus': '1_1', 'X-Netflix.proxy.execution-time': '409', 'X-Netflix.zuul.netty.content.compressor.target': 'gzip', 'content-encoding': 'gzip', 'transfer-encoding': 'chunked'}\n",
      "Response text: <!doctype html><html lang=\"en\" class=\" \"><head><meta http-equiv=\"Content-Type\" content=\"text/html; c\n"
     ]
    }
   ],
   "source": [
    "import requests\n",
    "\n",
    "# Change the URL to whatever you'd like\n",
    "response = requests.get(\"https://netflix.com\")\n",
    "\n",
    "print(\"Status code:\", response.status_code)\n",
    "print(\"Headers:\", response.headers)\n",
    "print(\"Response text:\", response.text[:100])\n",
    "\n",
    "# Add a line to print the \"Content-Type\" header of the response\n",
    "# Try an image URL!"
   ]
  },
  {
   "attachments": {},
   "cell_type": "markdown",
   "metadata": {},
   "source": [
    "# NGINX"
   ]
  },
  {
   "cell_type": "code",
   "execution_count": 24,
   "metadata": {},
   "outputs": [
    {
     "name": "stdout",
     "output_type": "stream",
     "text": [
      "<!doctype html>\n",
      "<html>\n",
      "<head>\n",
      "<title>Cool site</title>\n",
      "<meta name=\"description\" content=\"cool site for apcsp\">\n",
      "</head>\n",
      "<body>\n",
      "Hello, this is my cool site. Check out my products:\n",
      "<a href=\"/products\">Products!!</a>\n",
      "</body>\n",
      "</html>\n",
      "\n"
     ]
    }
   ],
   "source": [
    "aws = \"3.130.255.192\"\n",
    "\n",
    "response = requests.get(\"http://\" + aws)\n",
    "print(response.text)\n"
   ]
  },
  {
   "attachments": {},
   "cell_type": "markdown",
   "metadata": {},
   "source": [
    "## Configuration\n",
    "\n",
    "```nginx\n",
    "server {\n",
    "    // Listen on virtual \"port 80\"\n",
    "    listen 80;\n",
    "    listen [::]:80;\n",
    "    server_name 3.130.255.192;\n",
    "\n",
    "    location / {\n",
    "        // Inform server about original client\n",
    "        proxy_set_header        Host $host;\n",
    "        proxy_set_header        X-Real-IP $remote_addr;\n",
    "        proxy_set_header        X-Forwarded-For $proxy_add_x_forwarded_for;\n",
    "        proxy_set_header        X-Forwarded-Proto $scheme;\n",
    "\n",
    "        // Forward all requests transparently to the server running on our computer\n",
    "        proxy_pass              http://localhost:9099;\n",
    "    }\n",
    "}\n",
    "```\n",
    "\n",
    "### Load Balancing\n",
    "\n",
    "```nginx\n",
    "upstream example.com {\n",
    "    server server1.example.com;\n",
    "    server server1.example.com;\n",
    "}\n",
    "```\n",
    "\n",
    "### HTTP Headers\n",
    "\n",
    "```nginx\n",
    "server {\n",
    "    add_header X-Cool-Header \"I love APCSP!\";\n",
    "\n",
    "    location /pages {\n",
    "        add_header X-Cooler-Header \"This is my secret header!\";\n",
    "    }\n",
    "}\n",
    "```\n",
    "\n",
    "## Check In\n",
    "\n",
    "1. Research 1 HTTP header and describe, in detail, its purpose.\n",
    "\n",
    "The purpose of this to specify the content type, or type of data that is being sent and it is typically used in a HTTP request to show the format of the data being sent and the format of the data that would be sent back to the client.\n",
    "\n",
    "2. Write a line in a sample NGINX configuration that will add that specific header to the `/information` location\n",
    "\n",
    "/information location ``` location /information { add_header User-Agent \"Custom User Agent\"; }\n",
    "\n",
    "3. Explain the purpose of the load balancing performed by NGINX\n",
    "\n",
    "To increase reliability, scalability, and performance, NGINX performs load balancing by dividing incoming network traffic among several servers.\n",
    "\n",
    "4. Modify the following code block to obtain the value of the secret header on `/products` of the AWS site\n"
   ]
  },
  {
   "cell_type": "code",
   "execution_count": 26,
   "metadata": {},
   "outputs": [
    {
     "name": "stdout",
     "output_type": "stream",
     "text": [
      "The secret header is: {'Server': 'nginx/1.18.0 (Ubuntu)', 'Date': 'Sun, 30 Apr 2023 23:26:17 GMT', 'Content-Type': 'text/html', 'Transfer-Encoding': 'chunked', 'Connection': 'keep-alive', 'Last-Modified': 'Thu, 20 Apr 2023 20:42:12 GMT', 'X-Cooler-Header': 'This is my secret header!', 'Content-Encoding': 'gzip'}\n"
     ]
    }
   ],
   "source": [
    "aws = \"3.130.255.192\"\n",
    "\n",
    "response = requests.get(\"http://\" + aws+ \"/products\")\n",
    "\n",
    "print(\"The secret header is:\", response.headers)"
   ]
  },
  {
   "attachments": {},
   "cell_type": "markdown",
   "metadata": {},
   "source": [
    "# Hacks\n",
    "\n",
    "- Complete the above check-in questions and change the hosts (0.1)\n",
    "- Complete the above code-segment to retrieve the secret header (0.1)\n",
    "\n",
    "## Bonus (0.05)\n",
    "\n",
    "Create a diagram showing the layers of abstraction that allow us to use HTTP (IP, TCP, etc.)"
   ]
  },
  {
   "attachments": {},
   "cell_type": "markdown",
   "metadata": {},
   "source": [
    "# CORS Hacks \n",
    "1. Explain what CORS is and what it stands for: C\n",
    "2. Describe how you would be able to implement CORS into your own websites\n",
    "3. Describe why you would want to implement CORS into your own websites\n",
    "4. How could use CORS to benefit yourself in the future?\n",
    "\n",
    "Total: 0.2 points\n",
    "\n",
    "# KASM Hacks\n",
    "\n",
    "1. What is the purpose of \"sudo\" when running commands in terminal?\n",
    "\n",
    "2. What are some commands which allow us to look at how the storage of a machine is set up as?\n",
    "3. What do you think are some alternatives to running \"curl -O\" to get the zip file for KASM?\n",
    "4. What kind of commands do you think the \"install.sh\" command has and why is it necessary to call it?\n",
    "5. Explain in at least 3-4 sentences how deploying KASM is related to/requires other topics talked about in the lesson and/or potential ways to add things mentioned in the lesson to this guide.\n",
    "\n",
    "Total: 0.2 points\n",
    "\n",
    "# AWS/RDS Hacks (DONT HAVE TO DO )\n",
    "\n",
    "See the [setup post](https://firestorm0986.github.io/SLAAT/posts/sqlite-aws/)\n",
    "\n",
    "- Create your own database in the EC2 I have created (ec2-database-connect)\n",
    "    - name it with your first and last name (example: aditya-nawandhar) (0.1)\n",
    "    - Create a table using the commands on the link provided. (0.1)\n",
    "    - using commands from the link provided make columns and rows with test data (can be anything) (example: “name” and “class” are the columns with rows being something like “Aditya” and “Junior”). At least 4 test rows (0.1)\n",
    "    - additional points if the data matches CPT (Bonus: 0.05)\n",
    "\n",
    "Total: 0.3"
   ]
  }
 ],
 "metadata": {
  "kernelspec": {
   "display_name": "base",
   "language": "python",
   "name": "python3"
  },
  "language_info": {
   "codemirror_mode": {
    "name": "ipython",
    "version": 3
   },
   "file_extension": ".py",
   "mimetype": "text/x-python",
   "name": "python",
   "nbconvert_exporter": "python",
   "pygments_lexer": "ipython3",
   "version": "3.9.12"
  },
  "orig_nbformat": 4
 },
 "nbformat": 4,
 "nbformat_minor": 2
}
